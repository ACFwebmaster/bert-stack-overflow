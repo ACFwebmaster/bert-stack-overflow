{
 "cells": [
  {
   "cell_type": "markdown",
   "metadata": {},
   "source": [
    "Copyright (c) Microsoft Corporation. All rights reserved.\n",
    "\n",
    "Licensed under the MIT License."
   ]
  },
  {
   "cell_type": "markdown",
   "metadata": {},
   "source": [
    "# Inferencing with TensorFlow 2.0 on Azure Machine Learning Service"
   ]
  },
  {
   "cell_type": "markdown",
   "metadata": {},
   "source": [
    "## Overview of Workshop\n",
    "\n",
    "This notebook is Part 2 (Inferencing and Deploying a Model) of a four part workshop that demonstrates an end-to-end workflow for implementing a BERT model using Tensorflow 2.0 on Azure Machine Learning Service. The different components of the workshop are as follows:\n",
    "\n",
    "- Part 1: [Preparing Data and Model Training](https://github.com/microsoft/bert-stack-overflow/blob/master/1-Training/AzureServiceClassifier_Training.ipynb)\n",
    "- Part 2: [Inferencing and Deploying a Model](https://github.com/microsoft/bert-stack-overflow/blob/master/2-Inferencing/AzureServiceClassifier_Inferencing.ipynb)\n",
    "- Part 3: [Setting Up a Pipeline Using MLOps](https://github.com/microsoft/bert-stack-overflow/tree/master/3-ML-Ops)\n",
    "- Part 4: [Explaining Your Model Interpretability](https://github.com/microsoft/bert-stack-overflow/blob/master/4-Interpretibility/IBMEmployeeAttritionClassifier_Interpretability.ipynb)\n",
    "\n",
    "This workshop shows how to convert a TF 2.0 BERT model and deploy the model as Webservice in step-by-step fashion:\n",
    "\n",
    " * Initilize your workspace\n",
    " * Download a previous saved model (saved on Azure Machine Learning)\n",
    " * Test the downloaded model\n",
    " * Display scoring script\n",
    " * Defining an Azure Environment\n",
    " * Deploy Model as Webservice (Local, ACI and AKS)\n",
    " * Test Deployment (Azure ML Service Call, Raw HTTP Request)\n",
    " * Clean up Webservice"
   ]
  },
  {
   "cell_type": "markdown",
   "metadata": {},
   "source": [
    "## What is Azure Machine Learning Service?\n",
    "Azure Machine Learning service is a cloud service that you can use to develop and deploy machine learning models. Using Azure Machine Learning service, you can track your models as you build, train, deploy, and manage them, all at the broad scale that the cloud provides.\n",
    "![](./images/aml-overview.png)\n",
    "\n",
    "\n",
    "#### How can we use Azure Machine Learning SDK for deployment and inferencing of a machine learning models?\n",
    "Deployment and inferencing of a machine learning model, is often an cumbersome process. Once you a trained model and a scoring script working on your local machine, you will want to deploy this model as a web service.\n",
    "\n",
    "To facilitate deployment and inferencing, the Azure Machine Learning Python SDK provides a high-level abstraction for model deployment of a web service running on your [local](https://docs.microsoft.com/en-us/azure/machine-learning/service/how-to-deploy-and-where#local) machine, in Azure Container Instance ([ACI](https://azure.microsoft.com/en-us/services/container-instances/)) or Azure Kubernetes Service ([AKS](https://azure.microsoft.com/en-us/services/kubernetes-service/)), which allows users to easily deploy their models in the Azure ecosystem."
   ]
  },
  {
   "cell_type": "markdown",
   "metadata": {},
   "source": [
    "## Prerequisites\n",
    "* Understand the [architecture and terms](https://docs.microsoft.com/en-us/azure/machine-learning/service/concept-azure-machine-learning-architecture) introduced by Azure Machine Learning\n",
    "* If you are using an Azure Machine Learning Notebook VM, you are all set. Otherwise, go through the [configuration notebook](https://docs.microsoft.com/en-us/azure/machine-learning/service/tutorial-1st-experiment-sdk-setup) to:\n",
    "    * Install the AML SDK\n",
    "    * Create a workspace and its configuration file (config.json)\n",
    "* For local scoring test, you will also need to have Tensorflow and Keras installed in the current Jupyter kernel.\n",
    "* Please run through Part 1: [Working With Data and Training](1_AzureServiceClassifier_Training.ipynb) Notebook first to register your model\n",
    "* Make sure you enable [Docker for non-root users](https://docs.docker.com/install/linux/linux-postinstall/) (This is needed to run Local Deployment). Run the following commands in your Terminal and go to the your [Jupyter dashboard](/tree) and click `Quit` on the top right corner. After the shutdown, the Notebook will be automatically refereshed with the new permissions.\n",
    "```bash\n",
    "    sudo usermod -a -G docker $USER\n",
    "    newgrp docker\n",
    "```"
   ]
  },
  {
   "cell_type": "markdown",
   "metadata": {},
   "source": [
    "#### Enable Docker for non-root users"
   ]
  },
  {
   "cell_type": "code",
   "execution_count": 1,
   "metadata": {},
   "outputs": [
    {
     "name": "stdout",
     "output_type": "stream",
     "text": "[sudo] password for phil:\nferencing\u001b[00m$^C\u001b[A\n\nferencing\u001b[00m$"
    }
   ],
   "source": [
    "!sudo usermod -a -G docker $USER\n",
    "!newgrp docker"
   ]
  },
  {
   "cell_type": "markdown",
   "metadata": {},
   "source": [
    "Check if you have the correct permissions to run Docker. Running the line below should print:\n",
    "```\n",
    "CONTAINER ID        IMAGE               COMMAND             CREATED             STATUS              PORTS               NAMES\n",
    "```"
   ]
  },
  {
   "cell_type": "code",
   "execution_count": 8,
   "metadata": {},
   "outputs": [
    {
     "name": "stdout",
     "output_type": "stream",
     "text": "Error response from daemon: dial unix /mnt/wsl/docker-desktop/shared-sockets/guest-services/docker.sock: connect: no such file or directory\n"
    }
   ],
   "source": [
    "!docker ps"
   ]
  },
  {
   "cell_type": "markdown",
   "metadata": {},
   "source": [
    ">**Note:** Make you shutdown your Jupyter notebook to enable this access. Go to the your [Jupyter dashboard](/tree) and click `Quit` on the top right corner. After the shutdown, the Notebook will be automatically refereshed with the new permissions."
   ]
  },
  {
   "cell_type": "markdown",
   "metadata": {},
   "source": [
    "## Azure Service Classification Problem \n",
    "One of the key tasks to ensuring long term success of any Azure service is actively responding to related posts in online forums such as Stackoverflow. In order to keep track of these posts, Microsoft relies on the associated tags to direct questions to the appropriate support team. While Stackoverflow has different tags for each Azure service (azure-web-app-service, azure-virtual-machine-service, etc), people often use the generic **azure** tag. This makes it hard for specific teams to track down issues related to their product and as a result, many questions get left unanswered. \n",
    "\n",
    "**In order to solve this problem, we will be building a model to classify posts on Stackoverflow with the appropriate Azure service tag.**\n",
    "\n",
    "We will be using a BERT (Bidirectional Encoder Representations from Transformers) model which was published by researchers at Google AI Language. Unlike recent language representation models, BERT is designed to pre-train deep bidirectional representations from unlabeled text by jointly conditioning on both left and right context in all layers. As a result, the pre-trained BERT model can be fine-tuned with just one additional output layer to create state-of-the-art models for a wide range of natural language processing (NLP) tasks without substantial architecture modifications.\n",
    "\n",
    "For more information about the BERT, please read this [paper](https://arxiv.org/pdf/1810.04805.pdf)"
   ]
  },
  {
   "cell_type": "markdown",
   "metadata": {},
   "source": [
    "## Checking Azure Machine Learning Python SDK Version\n",
    "\n",
    "If you are running this on a Notebook VM, the Azure Machine Learning Python SDK is installed by default. If you are running this locally, you can follow these [instructions](https://docs.microsoft.com/en-us/python/api/overview/azure/ml/install?view=azure-ml-py) to install it using pip.\n",
    "\n",
    "This tutorial requires version 1.0.69 or higher. We can import the Python SDK to ensure it has been properly installed:"
   ]
  },
  {
   "cell_type": "code",
   "execution_count": 3,
   "metadata": {},
   "outputs": [
    {
     "name": "stdout",
     "output_type": "stream",
     "text": "SDK version: 1.0.83\n"
    }
   ],
   "source": [
    "# Check core SDK version number\n",
    "import azureml.core\n",
    "\n",
    "print(\"SDK version:\", azureml.core.VERSION)"
   ]
  },
  {
   "cell_type": "markdown",
   "metadata": {},
   "source": [
    "## Connect To Workspace\n",
    "\n",
    "Initialize a [Workspace](https://docs.microsoft.com/en-us/azure/machine-learning/service/concept-azure-machine-learning-architecture#workspace) object from the existing workspace you created in the prerequisites step. Workspace.from_config() creates a workspace object from the details stored in config.json."
   ]
  },
  {
   "cell_type": "code",
   "execution_count": 2,
   "metadata": {},
   "outputs": [
    {
     "name": "stdout",
     "output_type": "stream",
     "text": "Workspace name: BERT\nAzure region: australiaeast\nSubscription id: cdf3e529-94ee-4f54-a219-4720963fee3b\nResource group: DEV-CRM\n"
    }
   ],
   "source": [
    "from azureml.core import Workspace\n",
    "\n",
    "#ws = Workspace.from_config()\n",
    "ws = Workspace.get(\"BERT\", subscription_id=\"cdf3e529-94ee-4f54-a219-4720963fee3b\")\n",
    "print('Workspace name: ' + ws.name, \n",
    "      'Azure region: ' + ws.location, \n",
    "      'Subscription id: ' + ws.subscription_id, \n",
    "      'Resource group: ' + ws.resource_group, sep = '\\n')"
   ]
  },
  {
   "cell_type": "markdown",
   "metadata": {},
   "source": [
    "## Register Datastore\n",
    "A [Datastore](https://docs.microsoft.com/en-us/python/api/azureml-core/azureml.core.datastore.datastore?view=azure-ml-py) is used to store connection information to a central data storage. This allows you to access your storage without having to hard code this (potentially confidential) information into your scripts. \n",
    "\n",
    "In this tutorial, the model was been previously prepped and uploaded into a central [Blob Storage](https://azure.microsoft.com/en-us/services/storage/blobs/) container. We will register this container into our workspace as a datastore using a [shared access signature (SAS) token](https://docs.microsoft.com/en-us/azure/storage/common/storage-sas-overview). \n",
    "\n",
    "\n",
    "\n",
    "We need to define the following parameters to register a datastore:\n",
    "\n",
    "- `ws`: The workspace object\n",
    "- `datastore_name`: The name of the datastore, case insensitive, can only contain alphanumeric characters and _.\n",
    "- `container_name`: The name of the azure blob container.\n",
    "- `account_name`: The storage account name.\n",
    "- `sas_token`: An account SAS token, defaults to None.\n"
   ]
  },
  {
   "cell_type": "code",
   "execution_count": 4,
   "metadata": {},
   "outputs": [],
   "source": [
    "from azureml.core.datastore import Datastore\n",
    "\n",
    "datastore_name = 'data_shared_inbox'\n",
    "container_name = 'azureml-blobstore-7c6bdd88-21fa-453a-9c80-16998f02935f'\n",
    "account_name = 'bertsharedinbox'\n",
    "sas_token = '?sv=2019-02-02&ss=bfqt&srt=sco&sp=rl&se=2020-11-02T06:01:06Z&st=2019-11-08T22:01:06Z&spr=https&sig=9XcJPwqp4c2cSgsGL1X7cXKO46bzhHCaX75N3gc98GU%3D'\n",
    "\n",
    "datastore = Datastore.register_azure_blob_container(workspace=ws, \n",
    "                                                    datastore_name=datastore_name, \n",
    "                                                    container_name=container_name,\n",
    "                                                    account_name=account_name, \n",
    "                                                    sas_token=sas_token)"
   ]
  },
  {
   "cell_type": "markdown",
   "metadata": {},
   "source": [
    "#### If the datastore has already been registered, then you (and other users in your workspace) can directly run this cell."
   ]
  },
  {
   "cell_type": "code",
   "execution_count": 12,
   "metadata": {},
   "outputs": [],
   "source": [
    "#datastore = ws.datastores['data_shared_inbox']\n",
    "datastore = ws.get_default_datastore()"
   ]
  },
  {
   "cell_type": "markdown",
   "metadata": {},
   "source": [
    "### Download Model from Datastore\n",
    "Get the trained model from an Azure Blob container. The model is saved into two files, ``config.json`` and ``model.h5``."
   ]
  },
  {
   "cell_type": "code",
   "execution_count": 14,
   "metadata": {},
   "outputs": [
    {
     "data": {
      "text/plain": "0"
     },
     "execution_count": 14,
     "metadata": {},
     "output_type": "execute_result"
    }
   ],
   "source": [
    "from azureml.core.model import Model\n",
    "\n",
    "datastore.download('./',prefix=\"azure-service-classifier/model\")"
   ]
  },
  {
   "cell_type": "markdown",
   "metadata": {},
   "source": [
    "### Registering the Model with the Workspace\n",
    "Register the model to use in your workspace. "
   ]
  },
  {
   "cell_type": "code",
   "execution_count": 7,
   "metadata": {},
   "outputs": [
    {
     "name": "stdout",
     "output_type": "stream",
     "text": [
      "Registering model azure-service-classifier\n"
     ]
    }
   ],
   "source": [
    "model = Model.register(model_path = \"./azure-service-classifier/model\",\n",
    "                       model_name = \"azure-service-classifier\", # this is the name the model is registered as\n",
    "                       tags = {'pretrained': \"BERT\"},\n",
    "                       workspace = ws)\n",
    "model_dir = './azure-service-classifier/model'"
   ]
  },
  {
   "cell_type": "markdown",
   "metadata": {},
   "source": [
    "### Downloading and Using Registered Models\n",
    "> If you already completed Part 1: [Working With Data and Training](1_AzureServiceClassifier_Training.ipynb) Notebook.You can dowload your registered BERT Model and use that instead of the model saved on the blob storage."
   ]
  },
  {
   "cell_type": "markdown",
   "metadata": {},
   "source": [
    "```python\n",
    "model = ws.models['azure-service-classifier']\n",
    "model_dir = model.download(target_dir='.', exist_ok=True, exists_ok=None)\n",
    "```"
   ]
  },
  {
   "cell_type": "code",
   "execution_count": 4,
   "metadata": {},
   "outputs": [],
   "source": [
    "model = ws.models['azure-service-classifier']\n",
    "#model_dir = model.download(target_dir='.', exist_ok=True, exists_ok=None)"
   ]
  },
  {
   "cell_type": "markdown",
   "metadata": {},
   "source": [
    "## Inferencing on the test set\n",
    "Let's check the version of the local Keras. Make sure it matches with the version number printed out in the training script. Otherwise you might not be able to load the model properly."
   ]
  },
  {
   "cell_type": "code",
   "execution_count": 5,
   "metadata": {},
   "outputs": [
    {
     "name": "stderr",
     "output_type": "stream",
     "text": "Using TensorFlow backend.\n/home/phil/anaconda3/envs/bert-pytorch/lib/python3.6/site-packages/tensorflow/python/framework/dtypes.py:523: FutureWarning: Passing (type, 1) or '1type' as a synonym of type is deprecated; in a future version of numpy, it will be understood as (type, (1,)) / '(1,)type'.\n  _np_qint8 = np.dtype([(\"qint8\", np.int8, 1)])\n/home/phil/anaconda3/envs/bert-pytorch/lib/python3.6/site-packages/tensorflow/python/framework/dtypes.py:524: FutureWarning: Passing (type, 1) or '1type' as a synonym of type is deprecated; in a future version of numpy, it will be understood as (type, (1,)) / '(1,)type'.\n  _np_quint8 = np.dtype([(\"quint8\", np.uint8, 1)])\n/home/phil/anaconda3/envs/bert-pytorch/lib/python3.6/site-packages/tensorflow/python/framework/dtypes.py:525: FutureWarning: Passing (type, 1) or '1type' as a synonym of type is deprecated; in a future version of numpy, it will be understood as (type, (1,)) / '(1,)type'.\n  _np_qint16 = np.dtype([(\"qint16\", np.int16, 1)])\n/home/phil/anaconda3/envs/bert-pytorch/lib/python3.6/site-packages/tensorflow/python/framework/dtypes.py:526: FutureWarning: Passing (type, 1) or '1type' as a synonym of type is deprecated; in a future version of numpy, it will be understood as (type, (1,)) / '(1,)type'.\n  _np_quint16 = np.dtype([(\"quint16\", np.uint16, 1)])\n/home/phil/anaconda3/envs/bert-pytorch/lib/python3.6/site-packages/tensorflow/python/framework/dtypes.py:527: FutureWarning: Passing (type, 1) or '1type' as a synonym of type is deprecated; in a future version of numpy, it will be understood as (type, (1,)) / '(1,)type'.\n  _np_qint32 = np.dtype([(\"qint32\", np.int32, 1)])\n/home/phil/anaconda3/envs/bert-pytorch/lib/python3.6/site-packages/tensorflow/python/framework/dtypes.py:532: FutureWarning: Passing (type, 1) or '1type' as a synonym of type is deprecated; in a future version of numpy, it will be understood as (type, (1,)) / '(1,)type'.\n  np_resource = np.dtype([(\"resource\", np.ubyte, 1)])\nKeras version: 2.2.4\nTensorflow version: 1.12.0\n"
    }
   ],
   "source": [
    "import keras\n",
    "import tensorflow as tf\n",
    "\n",
    "print(\"Keras version:\", keras.__version__)\n",
    "print(\"Tensorflow version:\", tf.__version__)"
   ]
  },
  {
   "cell_type": "markdown",
   "metadata": {},
   "source": [
    "#### Install Transformers Library\n",
    "We have trained BERT model using Tensorflow 2.0 and the open source [huggingface/transformers](https://github.com/huggingface/transformers) libary. So before we can load the model we need to make sure we have also installed the Transformers Library."
   ]
  },
  {
   "cell_type": "code",
   "execution_count": 9,
   "metadata": {},
   "outputs": [
    {
     "name": "stdout",
     "output_type": "stream",
     "text": [
      "Requirement already satisfied: transformers in /anaconda/envs/azureml_py36/lib/python3.6/site-packages (2.0.0)\n",
      "Requirement already satisfied: sacremoses in /anaconda/envs/azureml_py36/lib/python3.6/site-packages (from transformers) (0.0.35)\n",
      "Requirement already satisfied: sentencepiece in /anaconda/envs/azureml_py36/lib/python3.6/site-packages (from transformers) (0.1.83)\n",
      "Requirement already satisfied: requests in /anaconda/envs/azureml_py36/lib/python3.6/site-packages (from transformers) (2.22.0)\n",
      "Requirement already satisfied: boto3 in /anaconda/envs/azureml_py36/lib/python3.6/site-packages (from transformers) (1.9.250)\n",
      "Requirement already satisfied: numpy in /anaconda/envs/azureml_py36/lib/python3.6/site-packages (from transformers) (1.16.2)\n",
      "Requirement already satisfied: tqdm in /anaconda/envs/azureml_py36/lib/python3.6/site-packages (from transformers) (4.36.1)\n",
      "Requirement already satisfied: regex in /anaconda/envs/azureml_py36/lib/python3.6/site-packages (from transformers) (2019.8.19)\n",
      "Requirement already satisfied: click in /anaconda/envs/azureml_py36/lib/python3.6/site-packages (from sacremoses->transformers) (7.0)\n",
      "Requirement already satisfied: six in /anaconda/envs/azureml_py36/lib/python3.6/site-packages (from sacremoses->transformers) (1.12.0)\n",
      "Requirement already satisfied: joblib in /anaconda/envs/azureml_py36/lib/python3.6/site-packages (from sacremoses->transformers) (0.13.2)\n",
      "Requirement already satisfied: certifi>=2017.4.17 in /anaconda/envs/azureml_py36/lib/python3.6/site-packages (from requests->transformers) (2019.9.11)\n",
      "Requirement already satisfied: urllib3!=1.25.0,!=1.25.1,<1.26,>=1.21.1 in /anaconda/envs/azureml_py36/lib/python3.6/site-packages (from requests->transformers) (1.24.2)\n",
      "Requirement already satisfied: idna<2.9,>=2.5 in /anaconda/envs/azureml_py36/lib/python3.6/site-packages (from requests->transformers) (2.8)\n",
      "Requirement already satisfied: chardet<3.1.0,>=3.0.2 in /anaconda/envs/azureml_py36/lib/python3.6/site-packages (from requests->transformers) (3.0.4)\n",
      "Requirement already satisfied: botocore<1.13.0,>=1.12.250 in /anaconda/envs/azureml_py36/lib/python3.6/site-packages (from boto3->transformers) (1.12.250)\n",
      "Requirement already satisfied: s3transfer<0.3.0,>=0.2.0 in /anaconda/envs/azureml_py36/lib/python3.6/site-packages (from boto3->transformers) (0.2.1)\n",
      "Requirement already satisfied: jmespath<1.0.0,>=0.7.1 in /anaconda/envs/azureml_py36/lib/python3.6/site-packages (from boto3->transformers) (0.9.4)\n",
      "Requirement already satisfied: python-dateutil<3.0.0,>=2.1; python_version >= \"2.7\" in /anaconda/envs/azureml_py36/lib/python3.6/site-packages (from botocore<1.13.0,>=1.12.250->boto3->transformers) (2.8.0)\n",
      "Requirement already satisfied: docutils<0.16,>=0.10 in /anaconda/envs/azureml_py36/lib/python3.6/site-packages (from botocore<1.13.0,>=1.12.250->boto3->transformers) (0.15.2)\n",
      "Note: you may need to restart the kernel to use updated packages.\n"
     ]
    }
   ],
   "source": [
    "%pip install transformers"
   ]
  },
  {
   "cell_type": "markdown",
   "metadata": {},
   "source": [
    "#### Load the Tensorflow 2.0 BERT model.\n",
    "Load the downloaded Tensorflow 2.0 BERT model"
   ]
  },
  {
   "cell_type": "code",
   "execution_count": 20,
   "metadata": {},
   "outputs": [
    {
     "name": "stdout",
     "output_type": "stream",
     "text": "Model loaded from disk.\n"
    }
   ],
   "source": [
    "from transformers import BertTokenizer, TFBertPreTrainedModel, TFBertMainLayer\n",
    "from transformers.modeling_tf_utils import get_initializer\n",
    "class TFBertForMultiClassification(TFBertPreTrainedModel):\n",
    "    def __init__(self, config, *inputs, **kwargs):\n",
    "        super(TFBertForMultiClassification, self).__init__(config, *inputs, **kwargs)\n",
    "        self.num_labels = config.num_labels\n",
    "        self.bert = TFBertMainLayer(config, name='bert')\n",
    "        self.dropout = tf.keras.layers.Dropout(config.hidden_dropout_prob)\n",
    "        self.classifier = tf.keras.layers.Dense(config.num_labels,\n",
    "                                                kernel_initializer=get_initializer(config.initializer_range),\n",
    "                                                name='classifier',\n",
    "                                                activation='softmax')\n",
    "    def call(self, inputs, **kwargs):\n",
    "        outputs = self.bert(inputs, **kwargs)\n",
    "        pooled_output = outputs[1]\n",
    "        pooled_output = self.dropout(pooled_output, training=kwargs.get('training', False))\n",
    "        logits = self.classifier(pooled_output)\n",
    "        outputs = (logits,) + outputs[2:]  # add hidden states and attention if they are here\n",
    "        return outputs  # logits, (hidden_states), (attentions)\n",
    "    \n",
    "max_seq_length = 128\n",
    "#labels = ['azure-web-app-service', 'azure-storage', 'azure-devops', 'azure-virtual-machine', 'azure-functions']\n",
    "labels = ['reply-required', 'no-reply-required']\n",
    "loaded_model = TFBertForMultiClassification.from_pretrained(model_dir, num_labels=len(labels))\n",
    "tokenizer = BertTokenizer.from_pretrained('bert-base-cased')\n",
    "print(\"Model loaded from disk.\")"
   ]
  },
  {
   "cell_type": "markdown",
   "metadata": {},
   "source": [
    "Feed in test sentence to test the BERT model. And time the duration of the prediction."
   ]
  },
  {
   "cell_type": "code",
   "execution_count": 26,
   "metadata": {},
   "outputs": [
    {
     "name": "stderr",
     "output_type": "stream",
     "text": "WARNING - Token indices sequence length is longer than the specified maximum sequence length for this model (4885 > 512). Running this sequence through the model will result in indexing errors\n{'prediction': 'reply-required', 'probability': '0.99992156'}\nCPU times: user 3.59 s, sys: 3.19 s, total: 6.78 s\nWall time: 930 ms\n"
    }
   ],
   "source": [
    "%%time\n",
    "import json \n",
    "\n",
    "# Input test sentences\n",
    "raw_data = json.dumps({\n",
    "    'text': '''Apologies Tom I can't make it at that time now. Are these recorded, so I could\n",
    "check back in later?CheersKirsten'''\n",
    "})\n",
    "\n",
    "# Encode inputs using tokenizer\n",
    "inputs = tokenizer.encode_plus(\n",
    "    json.loads(raw_data)['text'],\n",
    "    add_special_tokens=True,\n",
    "    max_length=max_seq_length\n",
    "    )\n",
    "input_ids, token_type_ids = inputs[\"input_ids\"], inputs[\"token_type_ids\"]\n",
    "\n",
    "# The mask has 1 for real tokens and 0 for padding tokens. Only real tokens are attended to.\n",
    "attention_mask = [1] * len(input_ids)\n",
    "\n",
    "# Zero-pad up to the sequence length.\n",
    "padding_length = max_seq_length - len(input_ids)\n",
    "input_ids = input_ids + ([0] * padding_length)\n",
    "attention_mask = attention_mask + ([0] * padding_length)\n",
    "token_type_ids = token_type_ids + ([0] * padding_length)\n",
    "    \n",
    "# Make prediction\n",
    "predictions = loaded_model.predict({\n",
    "        'input_ids': tf.convert_to_tensor([input_ids], dtype=tf.int32),\n",
    "        'attention_mask': tf.convert_to_tensor([attention_mask], dtype=tf.int32),\n",
    "        'token_type_ids': tf.convert_to_tensor([token_type_ids], dtype=tf.int32)\n",
    "    })\n",
    "\n",
    "result =  {\n",
    "        'prediction': str(labels[predictions[0].argmax().item()]),\n",
    "        'probability': str(predictions[0].max())\n",
    "    }\n",
    "\n",
    "print(result)"
   ]
  },
  {
   "cell_type": "markdown",
   "metadata": {},
   "source": [
    "As you can see based on the sample sentence the model can predict the probability of the StackOverflow tags related to that sentence."
   ]
  },
  {
   "cell_type": "markdown",
   "metadata": {},
   "source": [
    "## Inferencing with ONNX"
   ]
  },
  {
   "cell_type": "markdown",
   "metadata": {},
   "source": [
    "### ONNX and ONNX Runtime\n",
    "**ONNX (Open Neural Network Exchange)** is an interoperable standard format for ML models, with support for both DNN and traditional ML. Models can be converted from a variety of frameworks, such as TensorFlow, Keras, PyTorch, scikit-learn, and more (see [ONNX Conversion tutorials](https://github.com/onnx/tutorials#converting-to-onnx-format)). This provides data teams with the flexibility to use their framework of choice for their training needs, while streamlining the process to operationalize these models for production usage in a consistent way.\n",
    "\n",
    " In this section, we will demonstrate how to use ONNX Runtime, a high performance inference engine for ONNX format models, for inferencing our model. Along with interoperability, ONNX Runtime's performance-focused architecture can also accelerate inferencing for many models through graph optimizations, utilization of custom accelerators, and more. You can find more about performance tuning [here](https://github.com/microsoft/onnxruntime/blob/master/docs/ONNX_Runtime_Perf_Tuning.md)."
   ]
  },
  {
   "cell_type": "markdown",
   "metadata": {},
   "source": [
    "#### Download ONNX Model\n",
    "To visualize the model, we can use Netron. Click [here](https://lutzroeder.github.io/netron/) to open the browser version and load the model."
   ]
  },
  {
   "cell_type": "code",
   "execution_count": 18,
   "metadata": {},
   "outputs": [
    {
     "name": "stderr",
     "output_type": "stream",
     "text": [
      "WARNING - Path already exists. Skipping download for ./azure-service-classifier/model/bert_tf2.onnx\n"
     ]
    },
    {
     "data": {
      "text/plain": [
       "0"
      ]
     },
     "execution_count": 18,
     "metadata": {},
     "output_type": "execute_result"
    }
   ],
   "source": [
    "datastore.download('.',prefix=\"azure-service-classifier/model/bert_tf2.onnx\")"
   ]
  },
  {
   "cell_type": "markdown",
   "metadata": {},
   "source": [
    "#### Install ONNX Runtime"
   ]
  },
  {
   "cell_type": "code",
   "execution_count": 19,
   "metadata": {},
   "outputs": [
    {
     "name": "stdout",
     "output_type": "stream",
     "text": [
      "Collecting onnxruntime\n",
      "\u001b[?25l  Downloading https://files.pythonhosted.org/packages/a1/a3/7d71f481f3632320210676c19c9eb3ac565cf0e98a299883e0cb9324b3d7/onnxruntime-0.5.0-cp36-cp36m-manylinux2010_x86_64.whl (3.2MB)\n",
      "\u001b[K     |████████████████████████████████| 3.2MB 3.5MB/s eta 0:00:01\n",
      "\u001b[?25hInstalling collected packages: onnxruntime\n",
      "Successfully installed onnxruntime-0.5.0\n",
      "Note: you may need to restart the kernel to use updated packages.\n"
     ]
    }
   ],
   "source": [
    "%pip install onnxruntime"
   ]
  },
  {
   "cell_type": "markdown",
   "metadata": {},
   "source": [
    "#### Loading ONNX Model\n",
    "Load the downloaded ONNX BERT model."
   ]
  },
  {
   "cell_type": "code",
   "execution_count": 28,
   "metadata": {},
   "outputs": [
    {
     "name": "stdout",
     "output_type": "stream",
     "text": [
      "ONNX Model loaded from disk.\n"
     ]
    }
   ],
   "source": [
    "import numpy as np\n",
    "import onnxruntime as rt\n",
    "from transformers import BertTokenizer, TFBertPreTrainedModel, TFBertMainLayer\n",
    "max_seq_length = 128\n",
    "labels = ['azure-web-app-service', 'azure-storage', 'azure-devops', 'azure-virtual-machine', 'azure-functions']\n",
    "tokenizer = BertTokenizer.from_pretrained('bert-base-cased')\n",
    "\n",
    "sess = rt.InferenceSession(\"./azure-service-classifier/model/bert_tf2.onnx\")\n",
    "print(\"ONNX Model loaded from disk.\")"
   ]
  },
  {
   "cell_type": "markdown",
   "metadata": {},
   "source": [
    "#### View the inputs and outputs of converted ONNX model"
   ]
  },
  {
   "cell_type": "code",
   "execution_count": 29,
   "metadata": {},
   "outputs": [
    {
     "name": "stdout",
     "output_type": "stream",
     "text": [
      "Input name  : token_type_ids:0\n",
      "Input shape : ['unk__847', 128]\n",
      "Input type  : tensor(int32)\n",
      "Input name  : input_ids:0\n",
      "Input shape : ['unk__848', 128]\n",
      "Input type  : tensor(int32)\n",
      "Input name  : attention_mask:0\n",
      "Input shape : ['unk__849', 128]\n",
      "Input type  : tensor(int32)\n"
     ]
    }
   ],
   "source": [
    "for i in range(len(sess.get_inputs())):\n",
    "    input_name = sess.get_inputs()[i].name\n",
    "    print(\"Input name  :\", input_name)\n",
    "    input_shape = sess.get_inputs()[i].shape\n",
    "    print(\"Input shape :\", input_shape)\n",
    "    input_type = sess.get_inputs()[i].type\n",
    "    print(\"Input type  :\", input_type)"
   ]
  },
  {
   "cell_type": "code",
   "execution_count": 30,
   "metadata": {},
   "outputs": [
    {
     "name": "stdout",
     "output_type": "stream",
     "text": [
      "Output name  : tf_bert_for_multi_classification/Identity:0\n",
      "Output shape : ['unk__850', 5]\n",
      "Output type  : tensor(float)\n"
     ]
    }
   ],
   "source": [
    "for i in range(len(sess.get_outputs())):\n",
    "    output_name = sess.get_outputs()[i].name\n",
    "    print(\"Output name  :\", output_name)  \n",
    "    output_shape = sess.get_outputs()[i].shape\n",
    "    print(\"Output shape :\", output_shape)\n",
    "    output_type = sess.get_outputs()[i].type\n",
    "    print(\"Output type  :\", output_type)"
   ]
  },
  {
   "cell_type": "markdown",
   "metadata": {},
   "source": [
    "#### Inferencing with ONNX Runtime"
   ]
  },
  {
   "cell_type": "code",
   "execution_count": 31,
   "metadata": {},
   "outputs": [
    {
     "name": "stdout",
     "output_type": "stream",
     "text": [
      "{'prediction': 'azure-virtual-machine', 'probability': '0.98652273'}\n",
      "CPU times: user 757 ms, sys: 0 ns, total: 757 ms\n",
      "Wall time: 195 ms\n"
     ]
    }
   ],
   "source": [
    "%%time\n",
    "import json \n",
    "\n",
    "# Input test sentences\n",
    "raw_data = json.dumps({\n",
    "    'text': 'My VM is not working'\n",
    "})\n",
    "\n",
    "labels = ['azure-web-app-service', 'azure-storage', 'azure-devops', 'azure-virtual-machine', 'azure-functions']\n",
    "\n",
    "# Encode inputs using tokenizer\n",
    "inputs = tokenizer.encode_plus(\n",
    "    json.loads(raw_data)['text'],\n",
    "    add_special_tokens=True,\n",
    "    max_length=max_seq_length\n",
    "    )\n",
    "input_ids, token_type_ids = inputs[\"input_ids\"], inputs[\"token_type_ids\"]\n",
    "\n",
    "    # The mask has 1 for real tokens and 0 for padding tokens. Only real tokens are attended to.\n",
    "attention_mask = [1] * len(input_ids)\n",
    "\n",
    "    # Zero-pad up to the sequence length.\n",
    "padding_length = max_seq_length - len(input_ids)\n",
    "input_ids = input_ids + ([0] * padding_length)\n",
    "attention_mask = attention_mask + ([0] * padding_length)\n",
    "token_type_ids = token_type_ids + ([0] * padding_length)\n",
    "    \n",
    "    # Make prediction\n",
    "convert_input = {\n",
    "        sess.get_inputs()[0].name: np.array(tf.convert_to_tensor([token_type_ids], dtype=tf.int32)),\n",
    "        sess.get_inputs()[1].name: np.array(tf.convert_to_tensor([input_ids], dtype=tf.int32)),\n",
    "        sess.get_inputs()[2].name: np.array(tf.convert_to_tensor([attention_mask], dtype=tf.int32))\n",
    "    }\n",
    "\n",
    "predictions = sess.run([output_name], convert_input)\n",
    "\n",
    "result =  {\n",
    "        'prediction': str(labels[predictions[0].argmax().item()]),\n",
    "        'probability': str(predictions[0].max())\n",
    "    }\n",
    "\n",
    "print(result)"
   ]
  },
  {
   "cell_type": "markdown",
   "metadata": {},
   "source": [
    "## Deploy models on Azure ML\n",
    "\n",
    "Now we are ready to deploy the model as a web service running on your [local](https://docs.microsoft.com/en-us/azure/machine-learning/service/how-to-deploy-and-where#local) machine, in Azure Container Instance [ACI](https://azure.microsoft.com/en-us/services/container-instances/) or Azure Kubernetes Service [AKS](https://azure.microsoft.com/en-us/services/kubernetes-service/). Azure Machine Learning accomplishes this by constructing a Docker image with the scoring logic and model baked in. \n",
    "> **Note:** For this Notebook, we'll use the original model format for deployment, but the ONNX model can be deployed in the same way by using ONNX Runtime in the scoring script.\n",
    "\n",
    "![](./images/aml-deploy.png)\n",
    "\n",
    "\n",
    "### Deploying a web service\n",
    "Once you've tested the model and are satisfied with the results, deploy the model as a web service. For this Notebook, we'll use the original model format for deployment, but note that the ONNX model can be deployed in the same way by using ONNX Runtime in the scoring script.\n",
    "\n",
    "To build the correct environment, provide the following:\n",
    "* A scoring script to show how to use the model\n",
    "* An environment file to show what packages need to be installed\n",
    "* A configuration file to build the web service\n",
    "* The model you trained before\n",
    "\n",
    "Read more about deployment [here](https://docs.microsoft.com/en-us/azure/machine-learning/service/how-to-deploy-and-where)"
   ]
  },
  {
   "cell_type": "markdown",
   "metadata": {},
   "source": [
    "### Create score.py"
   ]
  },
  {
   "cell_type": "markdown",
   "metadata": {},
   "source": [
    "First, we will create a scoring script that will be invoked by the web service call. We have prepared a [score.py script](code/scoring/score.py) in advance that scores your BERT model.\n",
    "\n",
    "* Note that the scoring script must have two required functions, ``init()`` and ``run(input_data)``.\n",
    "    * In ``init()`` function, you typically load the model into a global object. This function is executed only once when the Docker container is started.\n",
    "    * In ``run(input_data)`` function, the model is used to predict a value based on the input data. The input and output to run typically use JSON as serialization and de-serialization format but you are not limited to that."
   ]
  },
  {
   "cell_type": "code",
   "execution_count": 27,
   "metadata": {},
   "outputs": [],
   "source": [
    "%pycat score.py"
   ]
  },
  {
   "cell_type": "markdown",
   "metadata": {},
   "source": [
    "### Create Environment"
   ]
  },
  {
   "cell_type": "markdown",
   "metadata": {},
   "source": [
    "You can create and/or use a Conda environment using the [Conda Dependencies object](https://docs.microsoft.com/en-us/python/api/azureml-core/azureml.core.conda_dependencies.condadependencies?view=azure-ml-py) when deploying a Webservice."
   ]
  },
  {
   "cell_type": "code",
   "execution_count": 6,
   "metadata": {},
   "outputs": [],
   "source": [
    "from azureml.core import Environment\n",
    "from azureml.core.conda_dependencies import CondaDependencies \n",
    "\n",
    "myenv = CondaDependencies.create(conda_packages=['numpy','pandas'],\n",
    "                                 pip_packages=['numpy','pandas','inference-schema[numpy-support]','azureml-defaults','tensorflow==2.0.0','transformers==2.0.0'])\n",
    "\n",
    "with open(\"myenv.yml\",\"w\") as f:\n",
    "    f.write(myenv.serialize_to_string())"
   ]
  },
  {
   "cell_type": "markdown",
   "metadata": {},
   "source": [
    "Review the content of the `myenv.yml` file."
   ]
  },
  {
   "cell_type": "code",
   "execution_count": 29,
   "metadata": {},
   "outputs": [],
   "source": [
    "%pycat myenv.yml"
   ]
  },
  {
   "cell_type": "markdown",
   "metadata": {},
   "source": [
    "## Create Inference Configuration\n",
    "\n",
    "We need to define the [Inference Configuration](https://docs.microsoft.com/en-us/python/api/azureml-core/azureml.core.model.inferenceconfig?view=azure-ml-py) for the web service. There is support for a source directory, you can upload an entire folder from your local machine as dependencies for the Webservice.\n",
    "Note: in that case, your entry_script and conda_file paths are relative paths to the source_directory path.\n",
    "\n",
    "Sample code for using a source directory:\n",
    "\n",
    "```python\n",
    "inference_config = InferenceConfig(source_directory=\"C:/abc\",\n",
    "                                   runtime= \"python\", \n",
    "                                   entry_script=\"x/y/score.py\",\n",
    "                                   conda_file=\"env/myenv.yml\")\n",
    "```\n",
    "\n",
    " - source_directory = holds source path as string, this entire folder gets added in image so its really easy to access any files within this folder or subfolder\n",
    " - runtime = Which runtime to use for the image. Current supported runtimes are 'spark-py' and 'python\n",
    " - entry_script = contains logic specific to initializing your model and running predictions\n",
    " - conda_file = manages conda and python package dependencies.\n",
    " \n",
    " \n",
    " > **Note:** Deployment uses the inference configuration deployment configuration to deploy the models. The deployment process is similar regardless of the compute target. Deploying to AKS is slightly different because you must provide a reference to the AKS cluster."
   ]
  },
  {
   "cell_type": "code",
   "execution_count": 7,
   "metadata": {},
   "outputs": [],
   "source": [
    "from azureml.core.model import InferenceConfig\n",
    "\n",
    "inference_config = InferenceConfig(source_directory=\"./\",\n",
    "                                   runtime= \"python\", \n",
    "                                   entry_script=\"score.py\",\n",
    "                                   conda_file=\"myenv.yml\"\n",
    "                                  )"
   ]
  },
  {
   "cell_type": "markdown",
   "metadata": {},
   "source": [
    "## Deploy as a Local Service\n",
    "\n",
    "Estimated time to complete: **about 3-7 minutes**\n",
    "\n",
    "Configure the image and deploy it locally. The following code goes through these steps:\n",
    "\n",
    "* Build an image on local machine (or VM, if you are using a VM) using:\n",
    "   * The scoring file (`score.py`)\n",
    "   * The environment file (`myenv.yml`)\n",
    "   * The model file \n",
    "* Define [Local Deployment Configuration](https://docs.microsoft.com/en-us/python/api/azureml-core/azureml.core.webservice.localwebservice?view=azure-ml-py#deploy-configuration-port-none-)\n",
    "* Send the image to local docker instance. \n",
    "* Start up a container using the image.\n",
    "* Get the web service HTTP endpoint.\n",
    "* This has a very quick turnaround time and is great for testing service before it is deployed to production\n",
    "\n",
    "> **Note:** Make sure you enable [Docker for non-root users](https://docs.docker.com/install/linux/linux-postinstall/) (This is needed to run Local Deployment). Run the following commands in your Terminal and go to the your [Jupyter dashboard](/tree) and click `Quit` on the top right corner. After the shutdown, the Notebook will be automatically refereshed with the new permissions.\n",
    "```bash\n",
    "    sudo usermod -a -G docker $USER\n",
    "    newgrp docker\n",
    "```"
   ]
  },
  {
   "cell_type": "markdown",
   "metadata": {},
   "source": [
    "#### Deploy Local Service"
   ]
  },
  {
   "cell_type": "code",
   "execution_count": 8,
   "metadata": {},
   "outputs": [
    {
     "name": "stdout",
     "output_type": "stream",
     "text": "9.3)\nRequirement already satisfied: python-dateutil>=2.6.1 in /azureml-envs/azureml_11e5f9a5f4d606dd3b813c95f509d8b8/lib/python3.6/site-packages (from pandas->-r /azureml-environment-setup/condaenv.3xx_fk5t.requirements.txt (line 2)) (2.8.1)\nCollecting wrapt==1.11.1\n  Downloading wrapt-1.11.1.tar.gz (27 kB)\nCollecting flask==1.0.3\n  Downloading Flask-1.0.3-py2.py3-none-any.whl (92 kB)\nCollecting configparser==3.7.4\n  Downloading configparser-3.7.4-py2.py3-none-any.whl (22 kB)\nCollecting azureml-core==1.0.83.*\n  Downloading azureml_core-1.0.83-py2.py3-none-any.whl (1.2 MB)\nCollecting applicationinsights>=0.11.7\n  Downloading applicationinsights-0.11.9-py2.py3-none-any.whl (58 kB)\nCollecting azureml-model-management-sdk==1.0.1b6.post1\n  Downloading azureml_model_management_sdk-1.0.1b6.post1-py2.py3-none-any.whl (130 kB)\nCollecting werkzeug==0.16.1\n  Downloading Werkzeug-0.16.1-py2.py3-none-any.whl (327 kB)\nCollecting gunicorn==19.9.0\n  Downloading gunicorn-19.9.0-py2.py3-none-any.whl (112 kB)\nCollecting json-logging-py==0.2\n  Downloading json-logging-py-0.2.tar.gz (3.6 kB)\nCollecting grpcio>=1.8.6\n  Downloading grpcio-1.27.1-cp36-cp36m-manylinux2010_x86_64.whl (2.7 MB)\nCollecting opt-einsum>=2.3.2\n  Downloading opt_einsum-3.1.0.tar.gz (69 kB)\nCollecting gast==0.2.2\n  Downloading gast-0.2.2.tar.gz (10 kB)\nCollecting protobuf>=3.6.1\n  Downloading protobuf-3.11.3-cp36-cp36m-manylinux1_x86_64.whl (1.3 MB)\nCollecting absl-py>=0.7.0\n  Downloading absl-py-0.9.0.tar.gz (104 kB)\nCollecting tensorboard<2.1.0,>=2.0.0\n  Downloading tensorboard-2.0.2-py3-none-any.whl (3.8 MB)\nCollecting termcolor>=1.1.0\n  Downloading termcolor-1.1.0.tar.gz (3.9 kB)\nCollecting keras-applications>=1.0.8\n  Downloading Keras_Applications-1.0.8-py3-none-any.whl (50 kB)\nCollecting keras-preprocessing>=1.0.5\n  Downloading Keras_Preprocessing-1.1.0-py2.py3-none-any.whl (41 kB)\nCollecting astor>=0.6.0\n  Downloading astor-0.8.1-py2.py3-none-any.whl (27 kB)\nCollecting tensorflow-estimator<2.1.0,>=2.0.0\n  Downloading tensorflow_estimator-2.0.1-py2.py3-none-any.whl (449 kB)\nRequirement already satisfied: six>=1.10.0 in /azureml-envs/azureml_11e5f9a5f4d606dd3b813c95f509d8b8/lib/python3.6/site-packages (from tensorflow==2.0.0->-r /azureml-environment-setup/condaenv.3xx_fk5t.requirements.txt (line 5)) (1.14.0)\nRequirement already satisfied: wheel>=0.26 in /azureml-envs/azureml_11e5f9a5f4d606dd3b813c95f509d8b8/lib/python3.6/site-packages (from tensorflow==2.0.0->-r /azureml-environment-setup/condaenv.3xx_fk5t.requirements.txt (line 5)) (0.34.2)\nCollecting google-pasta>=0.1.6\n  Downloading google_pasta-0.1.8-py3-none-any.whl (57 kB)\nCollecting requests\n  Downloading requests-2.22.0-py2.py3-none-any.whl (57 kB)\nCollecting sacremoses\n  Downloading sacremoses-0.0.38.tar.gz (860 kB)\nCollecting tqdm\n  Downloading tqdm-4.42.1-py2.py3-none-any.whl (59 kB)\nCollecting boto3\n  Downloading boto3-1.11.13-py2.py3-none-any.whl (128 kB)\nCollecting sentencepiece\n  Downloading sentencepiece-0.1.85-cp36-cp36m-manylinux1_x86_64.whl (1.0 MB)\nCollecting regex\n  Downloading regex-2020.1.8-cp36-cp36m-manylinux2010_x86_64.whl (689 kB)\nCollecting itsdangerous>=0.24\n  Downloading itsdangerous-1.1.0-py2.py3-none-any.whl (16 kB)\nCollecting click>=5.1\n  Downloading Click-7.0-py2.py3-none-any.whl (81 kB)\nCollecting Jinja2>=2.10\n  Downloading Jinja2-2.11.1-py2.py3-none-any.whl (126 kB)\nCollecting PyJWT\n  Downloading PyJWT-1.7.1-py2.py3-none-any.whl (18 kB)\nCollecting jsonpickle\n  Downloading jsonpickle-1.2-py2.py3-none-any.whl (32 kB)\nCollecting adal>=1.2.0\n  Downloading adal-1.2.2-py2.py3-none-any.whl (53 kB)\nCollecting cryptography!=1.9,!=2.0.*,!=2.1.*,!=2.2.*\n  Downloading cryptography-2.8-cp34-abi3-manylinux2010_x86_64.whl (2.3 MB)\nCollecting jmespath\n  Downloading jmespath-0.9.4-py2.py3-none-any.whl (24 kB)\nCollecting docker\n  Downloading docker-4.2.0-py2.py3-none-any.whl (143 kB)\nCollecting pyopenssl\n  Downloading pyOpenSSL-19.1.0-py2.py3-none-any.whl (53 kB)\nCollecting msrestazure>=0.4.33\n  Downloading msrestazure-0.6.2-py2.py3-none-any.whl (40 kB)\nCollecting azure-mgmt-authorization>=0.40.0\n  Downloading azure_mgmt_authorization-0.60.0-py2.py3-none-any.whl (82 kB)\nCollecting ruamel.yaml<=0.15.89,>=0.15.35\n  Downloading ruamel.yaml-0.15.89-cp36-cp36m-manylinux1_x86_64.whl (651 kB)\nCollecting backports.tempfile\n  Downloading backports.tempfile-1.0-py2.py3-none-any.whl (4.4 kB)\nCollecting ndg-httpsclient\n  Downloading ndg_httpsclient-0.5.1-py3-none-any.whl (34 kB)\nCollecting azure-graphrbac>=0.40.0\n  Downloading azure_graphrbac-0.61.1-py2.py3-none-any.whl (141 kB)\nCollecting SecretStorage\n  Downloading SecretStorage-3.1.2-py3-none-any.whl (14 kB)\nCollecting azure-common>=1.1.12\n  Downloading azure_common-1.1.24-py2.py3-none-any.whl (12 kB)\nCollecting azure-mgmt-resource>=1.2.1\n  Downloading azure_mgmt_resource-8.0.1-py2.py3-none-any.whl (758 kB)\nCollecting pathspec\n  Downloading pathspec-0.7.0-py2.py3-none-any.whl (25 kB)\nCollecting azure-mgmt-containerregistry>=2.0.0\n  Downloading azure_mgmt_containerregistry-2.8.0-py2.py3-none-any.whl (718 kB)\nCollecting azure-mgmt-keyvault>=0.40.0\n  Downloading azure_mgmt_keyvault-2.1.1-py2.py3-none-any.whl (117 kB)\nCollecting contextlib2\n  Downloading contextlib2-0.6.0.post1-py2.py3-none-any.whl (9.8 kB)\nCollecting msrest>=0.5.1\n  Downloading msrest-0.6.11-py2.py3-none-any.whl (83 kB)\nCollecting urllib3>=1.23\n  Downloading urllib3-1.25.8-py2.py3-none-any.whl (125 kB)\nCollecting azure-mgmt-storage>=1.5.0\n  Downloading azure_mgmt_storage-7.1.0-py2.py3-none-any.whl (517 kB)\nCollecting liac-arff>=2.1.1\n  Downloading liac-arff-2.4.0.tar.gz (15 kB)\nCollecting dill>=0.2.7.1\n  Downloading dill-0.3.1.1.tar.gz (151 kB)\nRequirement already satisfied: setuptools in /azureml-envs/azureml_11e5f9a5f4d606dd3b813c95f509d8b8/lib/python3.6/site-packages (from protobuf>=3.6.1->tensorflow==2.0.0->-r /azureml-environment-setup/condaenv.3xx_fk5t.requirements.txt (line 5)) (45.1.0.post20200119)\nCollecting markdown>=2.6.8\n  Downloading Markdown-3.2-py2.py3-none-any.whl (88 kB)\nCollecting google-auth-oauthlib<0.5,>=0.4.1\n  Downloading google_auth_oauthlib-0.4.1-py2.py3-none-any.whl (18 kB)\nCollecting google-auth<2,>=1.6.3\n  Downloading google_auth-1.11.0-py2.py3-none-any.whl (76 kB)\nCollecting h5py\n  Downloading h5py-2.10.0-cp36-cp36m-manylinux1_x86_64.whl (2.9 MB)\nCollecting chardet<3.1.0,>=3.0.2\n  Downloading chardet-3.0.4-py2.py3-none-any.whl (133 kB)\nRequirement already satisfied: certifi>=2017.4.17 in /azureml-envs/azureml_11e5f9a5f4d606dd3b813c95f509d8b8/lib/python3.6/site-packages (from requests->transformers==2.0.0->-r /azureml-environment-setup/condaenv.3xx_fk5t.requirements.txt (line 6)) (2019.11.28)\nCollecting idna<2.9,>=2.5\n  Downloading idna-2.8-py2.py3-none-any.whl (58 kB)\nCollecting joblib\n  Downloading joblib-0.14.1-py2.py3-none-any.whl (294 kB)\nCollecting s3transfer<0.4.0,>=0.3.0\n  Downloading s3transfer-0.3.3-py2.py3-none-any.whl (69 kB)\nCollecting botocore<1.15.0,>=1.14.13\n  Downloading botocore-1.14.13-py2.py3-none-any.whl (5.9 MB)\nCollecting MarkupSafe>=0.23\n  Downloading MarkupSafe-1.1.1-cp36-cp36m-manylinux1_x86_64.whl (27 kB)\nCollecting cffi!=1.11.3,>=1.8\n  Downloading cffi-1.14.0-cp36-cp36m-manylinux1_x86_64.whl (399 kB)\nCollecting websocket-client>=0.32.0\n  Downloading websocket_client-0.57.0-py2.py3-none-any.whl (200 kB)\nCollecting backports.weakref\n  Downloading backports.weakref-1.0.post1-py2.py3-none-any.whl (5.2 kB)\nCollecting pyasn1>=0.1.1\n  Downloading pyasn1-0.4.8-py2.py3-none-any.whl (77 kB)\nCollecting jeepney>=0.4.2\n  Downloading jeepney-0.4.2-py3-none-any.whl (21 kB)\nCollecting requests-oauthlib>=0.5.0\n  Downloading requests_oauthlib-1.3.0-py2.py3-none-any.whl (23 kB)\nCollecting isodate>=0.6.0\n  Downloading isodate-0.6.0-py2.py3-none-any.whl (45 kB)\nCollecting pyasn1-modules>=0.2.1\n  Downloading pyasn1_modules-0.2.8-py2.py3-none-any.whl (155 kB)\nCollecting cachetools<5.0,>=2.0.0\n  Downloading cachetools-4.0.0-py3-none-any.whl (10 kB)\nCollecting rsa<4.1,>=3.1.4\n  Downloading rsa-4.0-py2.py3-none-any.whl (38 kB)\nCollecting docutils<0.16,>=0.10\n  Downloading docutils-0.15.2-py3-none-any.whl (547 kB)\nCollecting pycparser\n  Downloading pycparser-2.19.tar.gz (158 kB)\nCollecting oauthlib>=3.0.0\n  Downloading oauthlib-3.1.0-py2.py3-none-any.whl (147 kB)\nBuilding wheels for collected packages: wrapt, json-logging-py, opt-einsum, gast, absl-py, termcolor, sacremoses, liac-arff, dill, pycparser\n  Building wheel for wrapt (setup.py): started\n  Building wheel for wrapt (setup.py): finished with status 'done'\n  Created wheel for wrapt: filename=wrapt-1.11.1-cp36-cp36m-linux_x86_64.whl size=66692 sha256=7c9733d675e46e040e06bd0e629e951447f029938f821c4a4688eb81d5a42b36\n  Stored in directory: /root/.cache/pip/wheels/94/0f/ec/66085641573800014bb0c8b657f3366eff641c42df79abbfe9\n  Building wheel for json-logging-py (setup.py): started\n  Building wheel for json-logging-py (setup.py): finished with status 'done'\n  Created wheel for json-logging-py: filename=json_logging_py-0.2-py3-none-any.whl size=3923 sha256=16a7b7321fc4fc68b92c106334d7639c05b61645e672d61095c7c04e925d42ab\n  Stored in directory: /root/.cache/pip/wheels/e2/1d/52/535a274b9c2ce7d4064838f2bdb62013801281ef7d7f21e2ee\n  Building wheel for opt-einsum (setup.py): started\n  Building wheel for opt-einsum (setup.py): finished with status 'done'\n  Created wheel for opt-einsum: filename=opt_einsum-3.1.0-py3-none-any.whl size=61681 sha256=ab6369c0ddc9931610ec9d1db0b386ce9bb417532104f6cc046e03b2957c6510\n  Stored in directory: /root/.cache/pip/wheels/1f/6f/14/e0f4f6bceec756bbab45c392c4d5429a684b14d849464ebfbf\n  Building wheel for gast (setup.py): started\n  Building wheel for gast (setup.py): finished with status 'done'\n  Created wheel for gast: filename=gast-0.2.2-py3-none-any.whl size=7539 sha256=bf98b93794f4f9bfbceeb7e721ca7ce36ce98a531282d80b09422909e97a5ced\n  Stored in directory: /root/.cache/pip/wheels/19/a7/b9/0740c7a3a7d1d348f04823339274b90de25fbcd217b2ee1fbe\n  Building wheel for absl-py (setup.py): started\n  Building wheel for absl-py (setup.py): finished with status 'done'\n  Created wheel for absl-py: filename=absl_py-0.9.0-py3-none-any.whl size=121931 sha256=a113947e3a43c69061260568a528a46d80d8f46e99494dee2998ceefa2f40ef7\n  Stored in directory: /root/.cache/pip/wheels/c3/af/84/3962a6af7b4ab336e951b7877dcfb758cf94548bb1771e0679\n  Building wheel for termcolor (setup.py): started\n  Building wheel for termcolor (setup.py): finished with status 'done'\n  Created wheel for termcolor: filename=termcolor-1.1.0-py3-none-any.whl size=4830 sha256=253ab4ed26278bd99e2bc432862295ac8edfe6ea2e9105f971ca7778317e2a99\n  Stored in directory: /root/.cache/pip/wheels/93/2a/eb/e58dbcbc963549ee4f065ff80a59f274cc7210b6eab962acdc\n  Building wheel for sacremoses (setup.py): started\n  Building wheel for sacremoses (setup.py): finished with status 'done'\n  Created wheel for sacremoses: filename=sacremoses-0.0.38-py3-none-any.whl size=884629 sha256=a603d11dd404b7a8e46955fd20ac84c1cb315311bfc40514812a3e5474f5e5bc\n  Stored in directory: /root/.cache/pip/wheels/03/e9/be/8b52f6e7e8c333b56f9440575b4c5eb4d96d27b5d22df5a71e\n  Building wheel for liac-arff (setup.py): started\n  Building wheel for liac-arff (setup.py): finished with status 'done'\n  Created wheel for liac-arff: filename=liac_arff-2.4.0-py3-none-any.whl size=13333 sha256=c79d10b6a85bc411ffa056018b3a334944c1b98648d5185f3d39b0c5c0c85305\n  Stored in directory: /root/.cache/pip/wheels/ba/2a/e1/6f7be2e2ea150e2486bff64fd6f0670f4f35f4c8f31c819fb8\n  Building wheel for dill (setup.py): started\n  Building wheel for dill (setup.py): finished with status 'done'\n  Created wheel for dill: filename=dill-0.3.1.1-py3-none-any.whl size=78530 sha256=56fb5f31e93fb16d3a3c3591ebe1496a7c5bf559ed83d2f0ac3eaf918c533eb7\n  Stored in directory: /root/.cache/pip/wheels/09/84/74/d2b4feb9ac9488bc83c475cb2cbe8e8b7d9cea8320d32f3787\n  Building wheel for pycparser (setup.py): started\n  Building wheel for pycparser (setup.py): finished with status 'done'\n  Created wheel for pycparser: filename=pycparser-2.19-py2.py3-none-any.whl size=111031 sha256=2ff3e8235eb50e11b7315e58a523fd0439763e68c12db0efe78acc7c694075b7\n  Stored in directory: /root/.cache/pip/wheels/c6/6b/83/2608afaa57ecfb0a66ac89191a8d9bad71c62ca55ee499c2d0\nSuccessfully built wrapt json-logging-py opt-einsum gast absl-py termcolor sacremoses liac-arff dill pycparser\nInstalling collected packages: wrapt, inference-schema, itsdangerous, click, MarkupSafe, Jinja2, werkzeug, flask, configparser, PyJWT, jsonpickle, pycparser, cffi, cryptography, chardet, urllib3, idna, requests, adal, jmespath, websocket-client, docker, pyopenssl, oauthlib, requests-oauthlib, isodate, msrest, msrestazure, azure-common, azure-mgmt-authorization, ruamel.yaml, backports.weakref, backports.tempfile, pyasn1, ndg-httpsclient, azure-graphrbac, jeepney, SecretStorage, azure-mgmt-resource, pathspec, azure-mgmt-containerregistry, azure-mgmt-keyvault, contextlib2, azure-mgmt-storage, azureml-core, applicationinsights, liac-arff, dill, azureml-model-management-sdk, gunicorn, json-logging-py, azureml-defaults, grpcio, opt-einsum, gast, protobuf, absl-py, markdown, pyasn1-modules, cachetools, rsa, google-auth, google-auth-oauthlib, tensorboard, termcolor, h5py, keras-applications, keras-preprocessing, astor, tensorflow-estimator, google-pasta, tensorflow, regex, joblib, tqdm, sacremoses, docutils, botocore, s3transfer, boto3, sentencepiece, transformers\n\nSuccessfully installed Jinja2-2.11.1 MarkupSafe-1.1.1 PyJWT-1.7.1 SecretStorage-3.1.2 absl-py-0.9.0 adal-1.2.2 applicationinsights-0.11.9 astor-0.8.1 azure-common-1.1.24 azure-graphrbac-0.61.1 azure-mgmt-authorization-0.60.0 azure-mgmt-containerregistry-2.8.0 azure-mgmt-keyvault-2.1.1 azure-mgmt-resource-8.0.1 azure-mgmt-storage-7.1.0 azureml-core-1.0.83 azureml-defaults-1.0.83.1 azureml-model-management-sdk-1.0.1b6.post1 backports.tempfile-1.0 backports.weakref-1.0.post1 boto3-1.11.13 botocore-1.14.13 cachetools-4.0.0 cffi-1.14.0 chardet-3.0.4 click-7.0 configparser-3.7.4 contextlib2-0.6.0.post1 cryptography-2.8 dill-0.3.1.1 docker-4.2.0 docutils-0.15.2 flask-1.0.3 gast-0.2.2 google-auth-1.11.0 google-auth-oauthlib-0.4.1 google-pasta-0.1.8 grpcio-1.27.1 gunicorn-19.9.0 h5py-2.10.0 idna-2.8 inference-schema-1.0.1 isodate-0.6.0 itsdangerous-1.1.0 jeepney-0.4.2 jmespath-0.9.4 joblib-0.14.1 json-logging-py-0.2 jsonpickle-1.2 keras-applications-1.0.8 keras-preprocessing-1.1.0 liac-arff-2.4.0 markdown-3.2 msrest-0.6.11 msrestazure-0.6.2 ndg-httpsclient-0.5.1 oauthlib-3.1.0 opt-einsum-3.1.0 pathspec-0.7.0 protobuf-3.11.3 pyasn1-0.4.8 pyasn1-modules-0.2.8 pycparser-2.19 pyopenssl-19.1.0 regex-2020.1.8 requests-2.22.0 requests-oauthlib-1.3.0 rsa-4.0 ruamel.yaml-0.15.89 s3transfer-0.3.3 sacremoses-0.0.38 sentencepiece-0.1.85 tensorboard-2.0.2 tensorflow-2.0.0 tensorflow-estimator-2.0.1 termcolor-1.1.0 tqdm-4.42.1 transformers-2.0.0 urllib3-1.25.8 websocket-client-0.57.0 werkzeug-0.16.1 wrapt-1.11.1\n\u001b[91m\n\u001b[0m#\n# To activate this environment, use:\n# > source activate /azureml-envs/azureml_11e5f9a5f4d606dd3b813c95f509d8b8\n#\n# To deactivate an active environment, use:\n# > source deactivate\n#\n\n\nRemoving intermediate container e1cef4e6d6a1\n ---> c222cf5de783\nStep 9/15 : ENV PATH /azureml-envs/azureml_11e5f9a5f4d606dd3b813c95f509d8b8/bin:$PATH\n ---> Running in 0773a2d122e4\nRemoving intermediate container 0773a2d122e4\n ---> b15a449a94d7\nStep 10/15 : ENV AZUREML_CONDA_ENVIRONMENT_PATH /azureml-envs/azureml_11e5f9a5f4d606dd3b813c95f509d8b8\n ---> Running in 11356b9ac804\nRemoving intermediate container 11356b9ac804\n ---> 848c3665ebdc\nStep 11/15 : ENV LD_LIBRARY_PATH /azureml-envs/azureml_11e5f9a5f4d606dd3b813c95f509d8b8/lib:$LD_LIBRARY_PATH\n ---> Running in 56d39fa047b7\nRemoving intermediate container 56d39fa047b7\n ---> 18221c3aa919\nStep 12/15 : COPY azureml-environment-setup/spark_cache.py azureml-environment-setup/log4j.properties /azureml-environment-setup/\n ---> 4c20ea0c73d6\nStep 13/15 : RUN if [ $SPARK_HOME ]; then /bin/bash -c '$SPARK_HOME/bin/spark-submit  /azureml-environment-setup/spark_cache.py'; fi\n ---> Running in 5cc1501f0564\nRemoving intermediate container 5cc1501f0564\n ---> 4a3de0c0546c\nStep 14/15 : ENV AZUREML_ENVIRONMENT_IMAGE True\n ---> Running in 3f374c3b59ce\nRemoving intermediate container 3f374c3b59ce\n ---> 3726d105502a\nStep 15/15 : CMD [\"bash\"]\n ---> Running in b0f18dca9a6f\nRemoving intermediate container b0f18dca9a6f\n ---> 00d0452b25c7\nSuccessfully built 00d0452b25c7\nSuccessfully tagged bert70fee97d.azurecr.io/azureml/azureml_cfded15358d6e1f880610d712315d2a4:latest\n2020/02/09 21:37:13 Successfully executed container: acb_step_0\n2020/02/09 21:37:13 Executing step ID: acb_step_1. Timeout(sec): 5400, Working directory: '', Network: 'acb_default_network'\n2020/02/09 21:37:13 Pushing image: bert70fee97d.azurecr.io/azureml/azureml_cfded15358d6e1f880610d712315d2a4:latest, attempt 1\nThe push refers to repository [bert70fee97d.azurecr.io/azureml/azureml_cfded15358d6e1f880610d712315d2a4]\n36457c8e3f1a: Preparing\n68c89343581c: Preparing\ne1ad2174e367: Preparing\n946895b9c5db: Preparing\n7426abd0c65a: Preparing\nd3003cabfebb: Preparing\ne1171d4d60ca: Preparing\n6ef1a8ae63b7: Preparing\n85389f9ead9e: Preparing\nf2608f66a0e3: Preparing\n0e259b09e5f4: Preparing\n340dc32eb998: Preparing\ndf18b66efaa6: Preparing\nccdb13a20bf2: Preparing\n9513cdf4e497: Preparing\n7f083f9454c0: Preparing\n29f36b5893dc: Preparing\nf2608f66a0e3: Waiting\n0e259b09e5f4: Waiting\n340dc32eb998: Waiting\ndf18b66efaa6: Waiting\nccdb13a20bf2: Waiting\n9513cdf4e497: Waiting\n7f083f9454c0: Waiting\n29f36b5893dc: Waiting\ne1171d4d60ca: Waiting\n6ef1a8ae63b7: Waiting\n85389f9ead9e: Waiting\nd3003cabfebb: Waiting\ne1ad2174e367: Pushed\n36457c8e3f1a: Pushed\n946895b9c5db: Pushed\n7426abd0c65a: Pushed\nd3003cabfebb: Pushed\ne1171d4d60ca: Pushed\n6ef1a8ae63b7: Pushed\n340dc32eb998: Pushed\nf2608f66a0e3: Pushed\nccdb13a20bf2: Pushed\n85389f9ead9e: Pushed\n9513cdf4e497: Pushed\n7f083f9454c0: Pushed\n0e259b09e5f4: Pushed\ndf18b66efaa6: Pushed\n29f36b5893dc: Pushed\n\n68c89343581c: Pushed\nlatest: digest: sha256:18309ef9ed8ebada5ec698a987e94651a336af5988bee8db92af90c6c6231246 size: 3883\n2020/02/09 21:38:40 Successfully pushed image: bert70fee97d.azurecr.io/azureml/azureml_cfded15358d6e1f880610d712315d2a4:latest\n2020/02/09 21:38:40 Step ID: acb_step_0 marked as successful (elapsed time in seconds: 178.071336)\n2020/02/09 21:38:40 Populating digests for step ID: acb_step_0...\n2020/02/09 21:38:41 Successfully populated digests for step ID: acb_step_0\n2020/02/09 21:38:41 Step ID: acb_step_1 marked as successful (elapsed time in seconds: 86.597137)\n2020/02/09 21:38:41 The following dependencies were found:\n2020/02/09 21:38:41 \n- image:\n    registry: bert70fee97d.azurecr.io\n    repository: azureml/azureml_cfded15358d6e1f880610d712315d2a4\n    tag: latest\n    digest: sha256:18309ef9ed8ebada5ec698a987e94651a336af5988bee8db92af90c6c6231246\n  runtime-dependency:\n    registry: mcr.microsoft.com\n    repository: azureml/base\n    tag: intelmpi2018.3-ubuntu16.04\n    digest: sha256:a1b514f3ba884b9a7695cbba5638933ddaf222e8ce3e8c81e8cdf861679abb05\n  git: {}\n\nRun ID: crt was successful after 4m32s\nPackage creation Succeeded\nLogging into Docker registry bert70fee97d.azurecr.io\nLogging into Docker registry bert70fee97d.azurecr.io\nBuilding Docker image from Dockerfile...\nStep 1/5 : FROM bert70fee97d.azurecr.io/azureml/azureml_cfded15358d6e1f880610d712315d2a4\n ---> 00d0452b25c7\nStep 2/5 : COPY azureml-app /var/azureml-app\n ---> f6764aaaa4ef\nStep 3/5 : COPY model_config_map.json /var/azureml-app/model_config_map.json\n ---> adb9c77c0ae6\nStep 4/5 : RUN mv '/var/azureml-app/tmpksa8m0kw.py' /var/azureml-app/main.py\n ---> Running in f1c79f48410c\n ---> 54cc2f817102\nStep 5/5 : CMD [\"runsvdir\",\"/var/runit\"]\n ---> Running in 47bacb186067\n ---> 1f07b7085904\nSuccessfully built 1f07b7085904\nSuccessfully tagged bert-shared-inbox:latest\nStarting Docker container...\nDocker container running.\nChecking container health...\nLocal webservice is running at http://localhost:32769\n32769\n"
    }
   ],
   "source": [
    "from azureml.core.model import InferenceConfig, Model\n",
    "from azureml.core.webservice import LocalWebservice\n",
    "\n",
    "# Create a local deployment for the web service endpoint\n",
    "deployment_config = LocalWebservice.deploy_configuration()\n",
    "# Deploy the service\n",
    "local_service = Model.deploy(\n",
    "    ws, \"bert-shared-inbox\", [model], inference_config, deployment_config)\n",
    "# Wait for the deployment to complete\n",
    "local_service.wait_for_deployment(True)\n",
    "# Display the port that the web service is available on\n",
    "print(local_service.port)"
   ]
  },
  {
   "cell_type": "markdown",
   "metadata": {},
   "source": [
    "This is the scoring web service endpoint:"
   ]
  },
  {
   "cell_type": "code",
   "execution_count": 9,
   "metadata": {},
   "outputs": [
    {
     "name": "stdout",
     "output_type": "stream",
     "text": "http://localhost:32769/score\n"
    }
   ],
   "source": [
    "print(local_service.scoring_uri)"
   ]
  },
  {
   "cell_type": "markdown",
   "metadata": {},
   "source": [
    "### Test Local Service"
   ]
  },
  {
   "cell_type": "markdown",
   "metadata": {},
   "source": [
    "Let's test the deployed model. Pick a random samples about an issue, and send it to the web service. Note here we are using the run API in the SDK to invoke the service. You can also make raw HTTP calls using any HTTP tool such as curl.\n",
    "\n",
    "After the invocation, we print the returned predictions."
   ]
  },
  {
   "cell_type": "code",
   "execution_count": 18,
   "metadata": {},
   "outputs": [
    {
     "name": "stdout",
     "output_type": "stream",
     "text": "Making a scoring call...\nScoring result:\n{'prediction': 'no-reply-required', 'probability': '0.99956375'}\nCPU times: user 0 ns, sys: 10.8 ms, total: 10.8 ms\nWall time: 505 ms\n"
    }
   ],
   "source": [
    "%%time\n",
    "import json\n",
    "raw_data = json.dumps({\n",
    "    'text': '''Hi Kelly,\n",
    "Really not sure how you got my email address,\n",
    "Please remove me from your email list\n",
    "\n",
    "'''\n",
    "})\n",
    "\n",
    "prediction = local_service.run(input_data=raw_data)"
   ]
  },
  {
   "cell_type": "markdown",
   "metadata": {},
   "source": [
    "### Reloading Webservice\n",
    "You can update your score.py file and then call reload() to quickly restart the service. This will only reload your execution script and dependency files, it will not rebuild the underlying Docker image. As a result, reload() is fast."
   ]
  },
  {
   "cell_type": "code",
   "execution_count": 39,
   "metadata": {},
   "outputs": [
    {
     "name": "stdout",
     "output_type": "stream",
     "text": [
      "Overwriting score.py\n"
     ]
    }
   ],
   "source": [
    "%%writefile score.py\n",
    "import os\n",
    "import json\n",
    "import tensorflow as tf\n",
    "from transformers import TFBertPreTrainedModel, TFBertMainLayer, BertTokenizer\n",
    "from transformers.modeling_tf_utils import get_initializer\n",
    "import logging\n",
    "logging.getLogger(\"transformers.tokenization_utils\").setLevel(logging.ERROR)\n",
    "\n",
    "\n",
    "class TFBertForMultiClassification(TFBertPreTrainedModel):\n",
    "\n",
    "    def __init__(self, config, *inputs, **kwargs):\n",
    "        super(TFBertForMultiClassification, self) \\\n",
    "            .__init__(config, *inputs, **kwargs)\n",
    "        self.num_labels = config.num_labels\n",
    "\n",
    "        self.bert = TFBertMainLayer(config, name='bert')\n",
    "        self.dropout = tf.keras.layers.Dropout(config.hidden_dropout_prob)\n",
    "        self.classifier = tf.keras.layers.Dense(\n",
    "            config.num_labels,\n",
    "            kernel_initializer=get_initializer(config.initializer_range),\n",
    "            name='classifier',\n",
    "            activation='softmax')\n",
    "\n",
    "    def call(self, inputs, **kwargs):\n",
    "        outputs = self.bert(inputs, **kwargs)\n",
    "\n",
    "        pooled_output = outputs[1]\n",
    "\n",
    "        pooled_output = self.dropout(\n",
    "            pooled_output,\n",
    "            training=kwargs.get('training', False))\n",
    "        logits = self.classifier(pooled_output)\n",
    "\n",
    "        # add hidden states and attention if they are here\n",
    "        outputs = (logits,) + outputs[2:]\n",
    "\n",
    "        return outputs  # logits, (hidden_states), (attentions)\n",
    "\n",
    "\n",
    "max_seq_length = 128\n",
    "labels = ['azure-web-app-service', 'azure-storage',\n",
    "    'azure-devops', 'azure-virtual-machine', 'azure-functions']\n",
    "\n",
    "\n",
    "def init():\n",
    "    global tokenizer, model\n",
    "    # os.path.join(os.getenv('AZUREML_MODEL_DIR'), 'azure-service-classifier')\n",
    "    tokenizer = BertTokenizer.from_pretrained('bert-base-cased')\n",
    "    model_dir = os.path.join(os.getenv('AZUREML_MODEL_DIR'), 'model')\n",
    "    model = TFBertForMultiClassification \\\n",
    "        .from_pretrained(model_dir, num_labels=len(labels))\n",
    "    print(\"hello from the reloaded script\")\n",
    "\n",
    "def run(raw_data):\n",
    "\n",
    "    # Encode inputs using tokenizer\n",
    "    inputs = tokenizer.encode_plus(\n",
    "        json.loads(raw_data)['text'],\n",
    "        add_special_tokens=True,\n",
    "        max_length=max_seq_length\n",
    "    )\n",
    "    input_ids, token_type_ids = inputs[\"input_ids\"], inputs[\"token_type_ids\"]\n",
    "\n",
    "    # The mask has 1 for real tokens and 0 for padding tokens.\n",
    "    # Only real tokens are attended to.\n",
    "    attention_mask = [1] * len(input_ids)\n",
    "\n",
    "    # Zero-pad up to the sequence length.\n",
    "    padding_length = max_seq_length - len(input_ids)\n",
    "    input_ids = input_ids + ([0] * padding_length)\n",
    "    attention_mask = attention_mask + ([0] * padding_length)\n",
    "    token_type_ids = token_type_ids + ([0] * padding_length)\n",
    "\n",
    "    # Make prediction\n",
    "    predictions = model.predict({\n",
    "        'input_ids': tf.convert_to_tensor([input_ids], dtype=tf.int32),\n",
    "        'attention_mask': tf.convert_to_tensor(\n",
    "            [attention_mask],\n",
    "            dtype=tf.int32),\n",
    "        'token_type_ids': tf.convert_to_tensor(\n",
    "            [token_type_ids], \n",
    "            dtype=tf.int32)\n",
    "    })\n",
    "\n",
    "    result = {\n",
    "        'prediction': str(labels[predictions[0].argmax().item()]),\n",
    "        'probability': str(predictions[0].max())\n",
    "    }\n",
    "\n",
    "    print(result)\n",
    "    return result\n",
    "\n",
    "\n",
    "init()\n",
    "run(json.dumps({\n",
    "    'text': 'My VM is not working'\n",
    "}))\n"
   ]
  },
  {
   "cell_type": "code",
   "execution_count": 40,
   "metadata": {},
   "outputs": [
    {
     "name": "stdout",
     "output_type": "stream",
     "text": [
      "Container has been successfully cleaned up.\n",
      "Starting Docker container...\n",
      "Docker container running.\n"
     ]
    }
   ],
   "source": [
    "local_service.reload()"
   ]
  },
  {
   "cell_type": "markdown",
   "metadata": {},
   "source": [
    "### Updating Webservice\n",
    "If you do need to rebuild the image -- to add a new Conda or pip package, for instance -- you will have to call update(), instead (see below).\n",
    "\n",
    "```python\n",
    "local_service.update(models=[loaded_model], \n",
    "                     image_config=None, \n",
    "                     deployment_config=None, \n",
    "                     wait=False, inference_config=None)\n",
    "```"
   ]
  },
  {
   "cell_type": "markdown",
   "metadata": {},
   "source": [
    "### View service Logs (Debug, when something goes wrong )\n",
    ">**Tip: If something goes wrong with the deployment, the first thing to look at is the logs from the service by running the following command:** Run this cell\n",
    "\n",
    "You should see the phrase **\"hello from the reloaded script\"** in the logs, because we added it to the script when we did a service reload."
   ]
  },
  {
   "cell_type": "code",
   "execution_count": 43,
   "metadata": {},
   "outputs": [
    {
     "name": "stdout",
     "output_type": "stream",
     "text": [
      "('/bin/bash: '\n",
      " '/azureml-envs/azureml_acb89c589d9589e8a1eaf57a0759fafe/lib/libtinfo.so.5: no '\n",
      " 'version information available (required by /bin/bash)\\n'\n",
      " '/bin/bash: '\n",
      " '/azureml-envs/azureml_acb89c589d9589e8a1eaf57a0759fafe/lib/libtinfo.so.5: no '\n",
      " 'version information available (required by /bin/bash)\\n'\n",
      " '/bin/bash: '\n",
      " '/azureml-envs/azureml_acb89c589d9589e8a1eaf57a0759fafe/lib/libtinfo.so.5: no '\n",
      " 'version information available (required by /bin/bash)\\n'\n",
      " '/bin/bash: '\n",
      " '/azureml-envs/azureml_acb89c589d9589e8a1eaf57a0759fafe/lib/libtinfo.so.5: no '\n",
      " 'version information available (required by /bin/bash)\\n'\n",
      " '2019-10-25T21:26:50,050750475+00:00 - rsyslog/run \\n'\n",
      " '2019-10-25T21:26:50,051500275+00:00 - iot-server/run \\n'\n",
      " 'bash: '\n",
      " '/azureml-envs/azureml_acb89c589d9589e8a1eaf57a0759fafe/lib/libtinfo.so.5: no '\n",
      " 'version information available (required by bash)\\n'\n",
      " '2019-10-25T21:26:50,053720575+00:00 - gunicorn/run \\n'\n",
      " '2019-10-25T21:26:50,061494276+00:00 - nginx/run \\n'\n",
      " '/usr/sbin/nginx: '\n",
      " '/azureml-envs/azureml_acb89c589d9589e8a1eaf57a0759fafe/lib/libcrypto.so.1.0.0: '\n",
      " 'no version information available (required by /usr/sbin/nginx)\\n'\n",
      " '/usr/sbin/nginx: '\n",
      " '/azureml-envs/azureml_acb89c589d9589e8a1eaf57a0759fafe/lib/libcrypto.so.1.0.0: '\n",
      " 'no version information available (required by /usr/sbin/nginx)\\n'\n",
      " '/usr/sbin/nginx: '\n",
      " '/azureml-envs/azureml_acb89c589d9589e8a1eaf57a0759fafe/lib/libssl.so.1.0.0: '\n",
      " 'no version information available (required by /usr/sbin/nginx)\\n'\n",
      " '/usr/sbin/nginx: '\n",
      " '/azureml-envs/azureml_acb89c589d9589e8a1eaf57a0759fafe/lib/libssl.so.1.0.0: '\n",
      " 'no version information available (required by /usr/sbin/nginx)\\n'\n",
      " '/usr/sbin/nginx: '\n",
      " '/azureml-envs/azureml_acb89c589d9589e8a1eaf57a0759fafe/lib/libssl.so.1.0.0: '\n",
      " 'no version information available (required by /usr/sbin/nginx)\\n'\n",
      " 'EdgeHubConnectionString and IOTEDGE_IOTHUBHOSTNAME are not set. Exiting...\\n'\n",
      " '/bin/bash: '\n",
      " '/azureml-envs/azureml_acb89c589d9589e8a1eaf57a0759fafe/lib/libtinfo.so.5: no '\n",
      " 'version information available (required by /bin/bash)\\n'\n",
      " '2019-10-25T21:26:50,136271379+00:00 - iot-server/finish 1 0\\n'\n",
      " '2019-10-25T21:26:50,137414879+00:00 - Exit code 1 is normal. Not restarting '\n",
      " 'iot-server.\\n'\n",
      " 'Starting gunicorn 19.9.0\\n'\n",
      " 'Listening at: http://127.0.0.1:31311 (12)\\n'\n",
      " 'Using worker: sync\\n'\n",
      " 'worker timeout is set to 300\\n'\n",
      " 'Booting worker with pid: 43\\n'\n",
      " 'Initialized PySpark session.\\n'\n",
      " 'TensorFlow version 2.0.0 available.\\n'\n",
      " 'To use data.metrics please install scikit-learn. See '\n",
      " 'https://scikit-learn.org/stable/index.html\\n'\n",
      " 'https://s3.amazonaws.com/models.huggingface.co/bert/bert-base-cased-vocab.txt '\n",
      " 'not found in cache or force_download set to True, downloading to '\n",
      " '/tmp/tmp7n3s05bn\\n'\n",
      " 'copying /tmp/tmp7n3s05bn to cache at '\n",
      " '/root/.cache/torch/transformers/5e8a2b4893d13790ed4150ca1906be5f7a03d6c4ddf62296c383f6db42814db2.e13dbb970cb325137104fb2e5f36fe865f27746c6b526f6352861b1980eb80b1\\n'\n",
      " 'creating metadata file for '\n",
      " '/root/.cache/torch/transformers/5e8a2b4893d13790ed4150ca1906be5f7a03d6c4ddf62296c383f6db42814db2.e13dbb970cb325137104fb2e5f36fe865f27746c6b526f6352861b1980eb80b1\\n'\n",
      " 'removing temp file /tmp/tmp7n3s05bn\\n'\n",
      " 'loading configuration file '\n",
      " 'azureml-models/azure-service-classifier/4/model/config.json\\n'\n",
      " 'Model config {\\n'\n",
      " '  \"attention_probs_dropout_prob\": 0.1,\\n'\n",
      " '  \"finetuning_task\": null,\\n'\n",
      " '  \"hidden_act\": \"gelu\",\\n'\n",
      " '  \"hidden_dropout_prob\": 0.1,\\n'\n",
      " '  \"hidden_size\": 768,\\n'\n",
      " '  \"initializer_range\": 0.02,\\n'\n",
      " '  \"intermediate_size\": 3072,\\n'\n",
      " '  \"layer_norm_eps\": 1e-12,\\n'\n",
      " '  \"max_position_embeddings\": 512,\\n'\n",
      " '  \"num_attention_heads\": 12,\\n'\n",
      " '  \"num_hidden_layers\": 12,\\n'\n",
      " '  \"num_labels\": 5,\\n'\n",
      " '  \"output_attentions\": false,\\n'\n",
      " '  \"output_hidden_states\": false,\\n'\n",
      " '  \"pruned_heads\": {},\\n'\n",
      " '  \"torchscript\": false,\\n'\n",
      " '  \"type_vocab_size\": 2,\\n'\n",
      " '  \"use_bfloat16\": false,\\n'\n",
      " '  \"vocab_size\": 28996\\n'\n",
      " '}\\n'\n",
      " '\\n'\n",
      " 'loading weights file '\n",
      " 'azureml-models/azure-service-classifier/4/model/tf_model.h5\\n'\n",
      " '\\r'\n",
      " '  0%|          | 0/213450 [00:00<?, ?B/s]\\r'\n",
      " ' 65%|██████▍   | 138240/213450 [00:00<00:00, 1323268.63B/s]\\r'\n",
      " '100%|██████████| 213450/213450 [00:00<00:00, 1963678.01B/s]2019-10-25 '\n",
      " '21:26:53.363484: I tensorflow/core/platform/cpu_feature_guard.cc:142] Your '\n",
      " 'CPU supports instructions that this TensorFlow binary was not compiled to '\n",
      " 'use: AVX2 FMA\\n'\n",
      " '2019-10-25 21:26:53.370229: I '\n",
      " 'tensorflow/core/platform/profile_utils/cpu_utils.cc:94] CPU Frequency: '\n",
      " '2294680000 Hz\\n'\n",
      " '2019-10-25 21:26:53.371214: I '\n",
      " 'tensorflow/compiler/xla/service/service.cc:168] XLA service 0x4ed4760 '\n",
      " 'executing computations on platform Host. Devices:\\n'\n",
      " '2019-10-25 21:26:53.371242: I '\n",
      " 'tensorflow/compiler/xla/service/service.cc:175]   StreamExecutor device (0): '\n",
      " 'Host, Default Version\\n'\n",
      " '2019-10-25 21:26:53.380995: W '\n",
      " 'tensorflow/core/framework/cpu_allocator_impl.cc:81] Allocation of 89075712 '\n",
      " 'exceeds 10% of system memory.\\n'\n",
      " '2019-10-25 21:26:53.569507: W '\n",
      " 'tensorflow/core/framework/cpu_allocator_impl.cc:81] Allocation of 89075712 '\n",
      " 'exceeds 10% of system memory.\\n'\n",
      " '2019-10-25 21:26:53.580449: W '\n",
      " 'tensorflow/core/framework/cpu_allocator_impl.cc:81] Allocation of 89075712 '\n",
      " 'exceeds 10% of system memory.\\n'\n",
      " '2019-10-25 21:26:55.503546: W '\n",
      " 'tensorflow/core/framework/cpu_allocator_impl.cc:81] Allocation of 89075712 '\n",
      " 'exceeds 10% of system memory.\\n'\n",
      " '2019-10-25 21:26:55.544285: W '\n",
      " 'tensorflow/core/framework/cpu_allocator_impl.cc:81] Allocation of 89075712 '\n",
      " 'exceeds 10% of system memory.\\n'\n",
      " 'hello from the reloaded script\\n'\n",
      " \"{'prediction': 'azure-virtual-machine', 'probability': '0.98652285'}\\n\"\n",
      " 'Initializing logger\\n'\n",
      " 'Starting up app insights client\\n'\n",
      " 'Starting up request id generator\\n'\n",
      " 'Starting up app insight hooks\\n'\n",
      " \"Invoking user's init function\\n\"\n",
      " 'loading configuration file '\n",
      " 'azureml-models/azure-service-classifier/4/model/config.json\\n'\n",
      " 'Model config {\\n'\n",
      " '  \"attention_probs_dropout_prob\": 0.1,\\n'\n",
      " '  \"finetuning_task\": null,\\n'\n",
      " '  \"hidden_act\": \"gelu\",\\n'\n",
      " '  \"hidden_dropout_prob\": 0.1,\\n'\n",
      " '  \"hidden_size\": 768,\\n'\n",
      " '  \"initializer_range\": 0.02,\\n'\n",
      " '  \"intermediate_size\": 3072,\\n'\n",
      " '  \"layer_norm_eps\": 1e-12,\\n'\n",
      " '  \"max_position_embeddings\": 512,\\n'\n",
      " '  \"num_attention_heads\": 12,\\n'\n",
      " '  \"num_hidden_layers\": 12,\\n'\n",
      " '  \"num_labels\": 5,\\n'\n",
      " '  \"output_attentions\": false,\\n'\n",
      " '  \"output_hidden_states\": false,\\n'\n",
      " '  \"pruned_heads\": {},\\n'\n",
      " '  \"torchscript\": false,\\n'\n",
      " '  \"type_vocab_size\": 2,\\n'\n",
      " '  \"use_bfloat16\": false,\\n'\n",
      " '  \"vocab_size\": 28996\\n'\n",
      " '}\\n'\n",
      " '\\n'\n",
      " 'loading weights file '\n",
      " 'azureml-models/azure-service-classifier/4/model/tf_model.h5\\n'\n",
      " 'hello from the reloaded script\\n'\n",
      " \"Users's init has completed successfully\\n\"\n",
      " '\\n'\n",
      " 'Scoring timeout setting is not found. Use default timeout: 3600000 ms\\n')\n"
     ]
    }
   ],
   "source": [
    "import pprint\n",
    "pp = pprint.PrettyPrinter(indent=4)\n",
    "pp.pprint(local_service.get_logs())"
   ]
  },
  {
   "cell_type": "markdown",
   "metadata": {},
   "source": [
    "## Deploy in ACI\n",
    "Estimated time to complete: **about 3-7 minutes**\n",
    "\n",
    "Configure the image and deploy. The following code goes through these steps:\n",
    "\n",
    "* Build an image using:\n",
    "   * The scoring file (`score.py`)\n",
    "   * The environment file (`myenv.yml`)\n",
    "   * The model file\n",
    "* Define [ACI Deployment Configuration](https://docs.microsoft.com/en-us/python/api/azureml-core/azureml.core.webservice.aciwebservice?view=azure-ml-py#deploy-configuration-cpu-cores-none--memory-gb-none--tags-none--properties-none--description-none--location-none--auth-enabled-none--ssl-enabled-none--enable-app-insights-none--ssl-cert-pem-file-none--ssl-key-pem-file-none--ssl-cname-none-)\n",
    "* Send the image to the ACI container.\n",
    "* Start up a container in ACI using the image.\n",
    "* Get the web service HTTP endpoint."
   ]
  },
  {
   "cell_type": "code",
   "execution_count": 44,
   "metadata": {
    "scrolled": true
   },
   "outputs": [
    {
     "name": "stdout",
     "output_type": "stream",
     "text": [
      "\n",
      "Running.....................................................................................................................\n",
      "SucceededACI service creation operation finished, operation \"Succeeded\"\n",
      "Healthy\n",
      "CPU times: user 49.4 s, sys: 2.31 s, total: 51.7 s\n",
      "Wall time: 10min 59s\n"
     ]
    }
   ],
   "source": [
    "%%time\n",
    "from azureml.core.webservice import Webservice\n",
    "from azureml.exceptions import WebserviceException\n",
    "from azureml.core.webservice import AciWebservice, Webservice\n",
    "\n",
    "## Create a deployment configuration file and specify the number of CPUs and gigabyte of RAM needed for your ACI container. \n",
    "## If you feel you need more later, you would have to recreate the image and redeploy the service.\n",
    "aciconfig = AciWebservice.deploy_configuration(cpu_cores=2, \n",
    "                                               memory_gb=4, \n",
    "                                               tags={\"model\": \"BERT\",  \"method\" : \"tensorflow\"}, \n",
    "                                               description='Predict StackoverFlow tags with BERT')\n",
    "\n",
    "aci_service_name = 'asc-aciservice'\n",
    "\n",
    "try:\n",
    "    # if you want to get existing service below is the command\n",
    "    # since aci name needs to be unique in subscription deleting existing aci if any\n",
    "    # we use aci_service_name to create azure ac\n",
    "    aci_service = Webservice(ws, name=aci_service_name)\n",
    "    if aci_service:\n",
    "        aci_service.delete()\n",
    "except WebserviceException as e:\n",
    "    print()\n",
    "\n",
    "aci_service = Model.deploy(ws, aci_service_name, [model], inference_config, aciconfig)\n",
    "\n",
    "aci_service.wait_for_deployment(True)\n",
    "print(aci_service.state)"
   ]
  },
  {
   "cell_type": "markdown",
   "metadata": {},
   "source": [
    "This is the scoring web service endpoint:"
   ]
  },
  {
   "cell_type": "code",
   "execution_count": 45,
   "metadata": {},
   "outputs": [
    {
     "name": "stdout",
     "output_type": "stream",
     "text": [
      "http://f2cabd68-b95a-4fc9-9993-b110fd811455.southcentralus.azurecontainer.io/score\n"
     ]
    }
   ],
   "source": [
    "print(aci_service.scoring_uri)"
   ]
  },
  {
   "cell_type": "markdown",
   "metadata": {},
   "source": [
    "### Test the deployed model"
   ]
  },
  {
   "cell_type": "markdown",
   "metadata": {},
   "source": [
    "Let's test the deployed model. Pick a random samples about an Azure issue, and send it to the web service. Note here we are using the run API in the SDK to invoke the service. You can also make raw HTTP calls using any HTTP tool such as curl.\n",
    "\n",
    "After the invocation, we print the returned predictions."
   ]
  },
  {
   "cell_type": "code",
   "execution_count": 47,
   "metadata": {},
   "outputs": [
    {
     "name": "stdout",
     "output_type": "stream",
     "text": [
      "{'prediction': 'azure-virtual-machine', 'probability': '0.98652285'}\n",
      "CPU times: user 9.98 ms, sys: 2.46 ms, total: 12.4 ms\n",
      "Wall time: 9.16 s\n"
     ]
    }
   ],
   "source": [
    "%%time\n",
    "import json\n",
    "raw_data = json.dumps({\n",
    "    'text': 'My VM is not working'\n",
    "})\n",
    "\n",
    "prediction = aci_service.run(input_data=raw_data)\n",
    "print(prediction)"
   ]
  },
  {
   "cell_type": "markdown",
   "metadata": {},
   "source": [
    "### View service Logs (Debug, when something goes wrong )\n",
    ">**Tip: If something goes wrong with the deployment, the first thing to look at is the logs from the service by running the following command:** Run this cell"
   ]
  },
  {
   "cell_type": "code",
   "execution_count": 46,
   "metadata": {},
   "outputs": [
    {
     "name": "stdout",
     "output_type": "stream",
     "text": [
      "('2019-10-25T21:38:01,800547693+00:00 - iot-server/run \\n'\n",
      " '2019-10-25T21:38:01,801597600+00:00 - rsyslog/run \\n'\n",
      " '2019-10-25T21:38:01,803121210+00:00 - gunicorn/run \\n'\n",
      " '2019-10-25T21:38:01,805047422+00:00 - nginx/run \\n'\n",
      " '/bin/bash: '\n",
      " '/azureml-envs/azureml_acb89c589d9589e8a1eaf57a0759fafe/lib/libtinfo.so.5: no '\n",
      " 'version information available (required by /bin/bash)\\n'\n",
      " '/bin/bash: '\n",
      " '/azureml-envs/azureml_acb89c589d9589e8a1eaf57a0759fafe/lib/libtinfo.so.5: no '\n",
      " 'version information available (required by /bin/bash)\\n'\n",
      " '/bin/bash: '\n",
      " '/azureml-envs/azureml_acb89c589d9589e8a1eaf57a0759fafe/lib/libtinfo.so.5: no '\n",
      " 'version information available (required by /bin/bash)\\n'\n",
      " '/bin/bash: '\n",
      " '/azureml-envs/azureml_acb89c589d9589e8a1eaf57a0759fafe/lib/libtinfo.so.5: no '\n",
      " 'version information available (required by /bin/bash)\\n'\n",
      " 'bash: '\n",
      " '/azureml-envs/azureml_acb89c589d9589e8a1eaf57a0759fafe/lib/libtinfo.so.5: no '\n",
      " 'version information available (required by bash)\\n'\n",
      " '/usr/sbin/nginx: '\n",
      " '/azureml-envs/azureml_acb89c589d9589e8a1eaf57a0759fafe/lib/libcrypto.so.1.0.0: '\n",
      " 'no version information available (required by /usr/sbin/nginx)\\n'\n",
      " '/usr/sbin/nginx: '\n",
      " '/azureml-envs/azureml_acb89c589d9589e8a1eaf57a0759fafe/lib/libcrypto.so.1.0.0: '\n",
      " 'no version information available (required by /usr/sbin/nginx)\\n'\n",
      " '/usr/sbin/nginx: '\n",
      " '/azureml-envs/azureml_acb89c589d9589e8a1eaf57a0759fafe/lib/libssl.so.1.0.0: '\n",
      " 'no version information available (required by /usr/sbin/nginx)\\n'\n",
      " '/usr/sbin/nginx: '\n",
      " '/azureml-envs/azureml_acb89c589d9589e8a1eaf57a0759fafe/lib/libssl.so.1.0.0: '\n",
      " 'no version information available (required by /usr/sbin/nginx)\\n'\n",
      " '/usr/sbin/nginx: '\n",
      " '/azureml-envs/azureml_acb89c589d9589e8a1eaf57a0759fafe/lib/libssl.so.1.0.0: '\n",
      " 'no version information available (required by /usr/sbin/nginx)\\n'\n",
      " 'EdgeHubConnectionString and IOTEDGE_IOTHUBHOSTNAME are not set. Exiting...\\n'\n",
      " '/bin/bash: '\n",
      " '/azureml-envs/azureml_acb89c589d9589e8a1eaf57a0759fafe/lib/libtinfo.so.5: no '\n",
      " 'version information available (required by /bin/bash)\\n'\n",
      " '2019-10-25T21:38:01,895228218+00:00 - iot-server/finish 1 0\\n'\n",
      " '2019-10-25T21:38:01,896688628+00:00 - Exit code 1 is normal. Not restarting '\n",
      " 'iot-server.\\n'\n",
      " 'Starting gunicorn 19.9.0\\n'\n",
      " 'Listening at: http://127.0.0.1:31311 (14)\\n'\n",
      " 'Using worker: sync\\n'\n",
      " 'worker timeout is set to 300\\n'\n",
      " 'Booting worker with pid: 41\\n'\n",
      " 'Initialized PySpark session.\\n'\n",
      " 'TensorFlow version 2.0.0 available.\\n'\n",
      " 'To use data.metrics please install scikit-learn. See '\n",
      " 'https://scikit-learn.org/stable/index.html\\n'\n",
      " 'https://s3.amazonaws.com/models.huggingface.co/bert/bert-base-cased-vocab.txt '\n",
      " 'not found in cache or force_download set to True, downloading to '\n",
      " '/tmp/tmpe5d7xafa\\n'\n",
      " 'copying /tmp/tmpe5d7xafa to cache at '\n",
      " '/root/.cache/torch/transformers/5e8a2b4893d13790ed4150ca1906be5f7a03d6c4ddf62296c383f6db42814db2.e13dbb970cb325137104fb2e5f36fe865f27746c6b526f6352861b1980eb80b1\\n'\n",
      " 'creating metadata file for '\n",
      " '/root/.cache/torch/transformers/5e8a2b4893d13790ed4150ca1906be5f7a03d6c4ddf62296c383f6db42814db2.e13dbb970cb325137104fb2e5f36fe865f27746c6b526f6352861b1980eb80b1\\n'\n",
      " 'removing temp file /tmp/tmpe5d7xafa\\n'\n",
      " 'loading configuration file '\n",
      " 'azureml-models/azure-service-classifier/4/model/config.json\\n'\n",
      " 'Model config {\\n'\n",
      " '  \"attention_probs_dropout_prob\": 0.1,\\n'\n",
      " '  \"finetuning_task\": null,\\n'\n",
      " '  \"hidden_act\": \"gelu\",\\n'\n",
      " '  \"hidden_dropout_prob\": 0.1,\\n'\n",
      " '  \"hidden_size\": 768,\\n'\n",
      " '  \"initializer_range\": 0.02,\\n'\n",
      " '  \"intermediate_size\": 3072,\\n'\n",
      " '  \"layer_norm_eps\": 1e-12,\\n'\n",
      " '  \"max_position_embeddings\": 512,\\n'\n",
      " '  \"num_attention_heads\": 12,\\n'\n",
      " '  \"num_hidden_layers\": 12,\\n'\n",
      " '  \"num_labels\": 5,\\n'\n",
      " '  \"output_attentions\": false,\\n'\n",
      " '  \"output_hidden_states\": false,\\n'\n",
      " '  \"pruned_heads\": {},\\n'\n",
      " '  \"torchscript\": false,\\n'\n",
      " '  \"type_vocab_size\": 2,\\n'\n",
      " '  \"use_bfloat16\": false,\\n'\n",
      " '  \"vocab_size\": 28996\\n'\n",
      " '}\\n'\n",
      " '\\n'\n",
      " 'loading weights file '\n",
      " 'azureml-models/azure-service-classifier/4/model/tf_model.h5\\n'\n",
      " '\\r'\n",
      " '  0%|          | 0/213450 [00:00<?, ?B/s]\\r'\n",
      " ' 65%|██████▍   | 138240/213450 [00:00<00:00, 1322836.91B/s]\\r'\n",
      " '100%|██████████| 213450/213450 [00:00<00:00, 1961832.01B/s]2019-10-25 '\n",
      " '21:38:05.166092: I tensorflow/core/platform/cpu_feature_guard.cc:142] Your '\n",
      " 'CPU supports instructions that this TensorFlow binary was not compiled to '\n",
      " 'use: AVX2 FMA\\n'\n",
      " '2019-10-25 21:38:05.172222: I '\n",
      " 'tensorflow/core/platform/profile_utils/cpu_utils.cc:94] CPU Frequency: '\n",
      " '2294690000 Hz\\n'\n",
      " '2019-10-25 21:38:05.173072: I '\n",
      " 'tensorflow/compiler/xla/service/service.cc:168] XLA service 0x4d07a90 '\n",
      " 'executing computations on platform Host. Devices:\\n'\n",
      " '2019-10-25 21:38:05.173097: I '\n",
      " 'tensorflow/compiler/xla/service/service.cc:175]   StreamExecutor device (0): '\n",
      " 'Host, Default Version\\n'\n",
      " 'hello from the reloaded script\\n'\n",
      " \"{'prediction': 'azure-virtual-machine', 'probability': '0.98652285'}\\n\"\n",
      " 'Initializing logger\\n'\n",
      " 'Starting up app insights client\\n'\n",
      " 'Starting up request id generator\\n'\n",
      " 'Starting up app insight hooks\\n'\n",
      " \"Invoking user's init function\\n\"\n",
      " 'loading configuration file '\n",
      " 'azureml-models/azure-service-classifier/4/model/config.json\\n'\n",
      " 'Model config {\\n'\n",
      " '  \"attention_probs_dropout_prob\": 0.1,\\n'\n",
      " '  \"finetuning_task\": null,\\n'\n",
      " '  \"hidden_act\": \"gelu\",\\n'\n",
      " '  \"hidden_dropout_prob\": 0.1,\\n'\n",
      " '  \"hidden_size\": 768,\\n'\n",
      " '  \"initializer_range\": 0.02,\\n'\n",
      " '  \"intermediate_size\": 3072,\\n'\n",
      " '  \"layer_norm_eps\": 1e-12,\\n'\n",
      " '  \"max_position_embeddings\": 512,\\n'\n",
      " '  \"num_attention_heads\": 12,\\n'\n",
      " '  \"num_hidden_layers\": 12,\\n'\n",
      " '  \"num_labels\": 5,\\n'\n",
      " '  \"output_attentions\": false,\\n'\n",
      " '  \"output_hidden_states\": false,\\n'\n",
      " '  \"pruned_heads\": {},\\n'\n",
      " '  \"torchscript\": false,\\n'\n",
      " '  \"type_vocab_size\": 2,\\n'\n",
      " '  \"use_bfloat16\": false,\\n'\n",
      " '  \"vocab_size\": 28996\\n'\n",
      " '}\\n'\n",
      " '\\n'\n",
      " 'loading weights file '\n",
      " 'azureml-models/azure-service-classifier/4/model/tf_model.h5\\n'\n",
      " 'hello from the reloaded script\\n'\n",
      " \"Users's init has completed successfully\\n\"\n",
      " '\\n'\n",
      " 'Scoring timeout setting is not found. Use default timeout: 3600000 ms\\n')\n"
     ]
    }
   ],
   "source": [
    "import pprint\n",
    "pp = pprint.PrettyPrinter(indent=4)\n",
    "pp.pprint(aci_service.get_logs())"
   ]
  },
  {
   "cell_type": "markdown",
   "metadata": {},
   "source": [
    "## Deploy in AKS (Single Node)"
   ]
  },
  {
   "cell_type": "markdown",
   "metadata": {},
   "source": [
    "Estimated time to complete: **about 15-25 minutes**, 10-15 mins for AKS provisioning and 5-10 mins to deploy service\n",
    "\n",
    "Configure the image and deploy. The following code goes through these steps:\n",
    "\n",
    "* Provision a Production AKS Cluster\n",
    "* Build an image using:\n",
    "   * The scoring file (`score.py`)\n",
    "   * The environment file (`myenv.yml`)\n",
    "   * The model file\n",
    "* Define [AKS Provisioning Configuration](https://docs.microsoft.com/en-us/python/api/azureml-core/azureml.core.compute.akscompute?view=azure-ml-py#provisioning-configuration-agent-count-none--vm-size-none--ssl-cname-none--ssl-cert-pem-file-none--ssl-key-pem-file-none--location-none--vnet-resourcegroup-name-none--vnet-name-none--subnet-name-none--service-cidr-none--dns-service-ip-none--docker-bridge-cidr-none--cluster-purpose-none-)\n",
    "* Provision an AKS Cluster\n",
    "* Define [AKS Deployment Configuration](https://docs.microsoft.com/en-us/python/api/azureml-core/azureml.core.webservice.akswebservice?view=azure-ml-py#deploy-configuration-autoscale-enabled-none--autoscale-min-replicas-none--autoscale-max-replicas-none--autoscale-refresh-seconds-none--autoscale-target-utilization-none--collect-model-data-none--auth-enabled-none--cpu-cores-none--memory-gb-none--enable-app-insights-none--scoring-timeout-ms-none--replica-max-concurrent-requests-none--max-request-wait-time-none--num-replicas-none--primary-key-none--secondary-key-none--tags-none--properties-none--description-none--gpu-cores-none--period-seconds-none--initial-delay-seconds-none--timeout-seconds-none--success-threshold-none--failure-threshold-none--namespace-none--token-auth-enabled-none-)\n",
    "* Send the image to the AKS cluster.\n",
    "* Start up a container in AKS using the image.\n",
    "* Get the web service HTTP endpoint."
   ]
  },
  {
   "cell_type": "markdown",
   "metadata": {},
   "source": [
    "#### Provisioning Cluster"
   ]
  },
  {
   "cell_type": "code",
   "execution_count": null,
   "metadata": {},
   "outputs": [],
   "source": [
    "from azureml.core.compute import AksCompute, ComputeTarget\n",
    "\n",
    "# Use the default configuration (you can also provide parameters to customize this).\n",
    "# For example, to create a dev/test cluster, use:\n",
    "# prov_config = AksCompute.provisioning_configuration(cluster_purpose = AksCompute.ClusterPurpose.DEV_TEST)\n",
    "prov_config = AksCompute.provisioning_configuration()\n",
    "\n",
    "aks_name = 'myaks'\n",
    "# Create the cluster\n",
    "aks_target = ComputeTarget.create(workspace = ws,\n",
    "                                    name = aks_name,\n",
    "                                    provisioning_configuration = prov_config)\n",
    "\n",
    "# Wait for the create process to complete\n",
    "aks_target.wait_for_completion(show_output = True)"
   ]
  },
  {
   "cell_type": "markdown",
   "metadata": {},
   "source": [
    "#### Deploying the model"
   ]
  },
  {
   "cell_type": "code",
   "execution_count": null,
   "metadata": {},
   "outputs": [],
   "source": [
    "from azureml.core.webservice import AksWebservice, Webservice\n",
    "from azureml.core.model import Model\n",
    "\n",
    "aks_target = AksCompute(ws,\"myaks\")\n",
    "\n",
    "## Create a deployment configuration file and specify the number of CPUs and gigabyte of RAM needed for your cluster. \n",
    "## If you feel you need more later, you would have to recreate the image and redeploy the service.\n",
    "deployment_config = AksWebservice.deploy_configuration(cpu_cores = 2, memory_gb = 4)\n",
    "\n",
    "aks_service = Model.deploy(ws, \"myservice\", [model], inference_config, deployment_config, aks_target)\n",
    "aks_service.wait_for_deployment(show_output = True)\n",
    "print(aks_service.state)"
   ]
  },
  {
   "cell_type": "markdown",
   "metadata": {},
   "source": [
    "### Test the deployed model"
   ]
  },
  {
   "cell_type": "markdown",
   "metadata": {},
   "source": [
    "#### Using the Azure SDK service call"
   ]
  },
  {
   "cell_type": "markdown",
   "metadata": {},
   "source": [
    "We can use Azure SDK to make a service call with a simple function"
   ]
  },
  {
   "cell_type": "code",
   "execution_count": null,
   "metadata": {},
   "outputs": [],
   "source": [
    "%%time\n",
    "import json\n",
    "raw_data = json.dumps({\n",
    "    'text': 'My VM is not working'\n",
    "})\n",
    "\n",
    "prediction = aks_service.run(input_data=raw_data)\n",
    "print(prediction)"
   ]
  },
  {
   "cell_type": "markdown",
   "metadata": {},
   "source": [
    "This is the scoring web service endpoint:"
   ]
  },
  {
   "cell_type": "code",
   "execution_count": null,
   "metadata": {},
   "outputs": [],
   "source": [
    "print(aks_service.scoring_uri)"
   ]
  },
  {
   "cell_type": "markdown",
   "metadata": {},
   "source": [
    "#### Using HTTP call"
   ]
  },
  {
   "cell_type": "markdown",
   "metadata": {},
   "source": [
    "We will make a Jupyter widget so we can now send construct raw HTTP request and send to the service through the widget."
   ]
  },
  {
   "cell_type": "markdown",
   "metadata": {},
   "source": [
    "#### Test Web Service with HTTP call"
   ]
  },
  {
   "cell_type": "code",
   "execution_count": 49,
   "metadata": {},
   "outputs": [
    {
     "data": {
      "application/vnd.jupyter.widget-view+json": {
       "model_id": "37eadf62c20e4c75b9d594a216093a05",
       "version_major": 2,
       "version_minor": 0
      },
      "text/plain": [
       "VBox(children=(Box(children=(Text(value='', description='Question:', placeholder='Type a query'), Button(descr…"
      ]
     },
     "metadata": {},
     "output_type": "display_data"
    }
   ],
   "source": [
    "import ipywidgets as widgets\n",
    "from ipywidgets import Layout, Button, Box, FloatText, Textarea, Dropdown, Label, IntSlider, VBox\n",
    "\n",
    "from IPython.display import display\n",
    "\n",
    "\n",
    "import requests\n",
    "\n",
    "text = widgets.Text(\n",
    "    value='',\n",
    "    placeholder='Type a query',\n",
    "    description='Question:',\n",
    "    disabled=False\n",
    ")\n",
    "\n",
    "button = widgets.Button(description=\"Get Tag!\")\n",
    "output = widgets.Output()\n",
    "\n",
    "items = [text, button] \n",
    "\n",
    "box_layout = Layout(display='flex',\n",
    "                    flex_flow='row',\n",
    "                    align_items='stretch',\n",
    "                    width='70%')\n",
    "\n",
    "box_auto = Box(children=items, layout=box_layout)\n",
    "\n",
    "\n",
    "def on_button_clicked(b):\n",
    "    with output:\n",
    "        input_data = '{\\\"text\\\": \\\"'+ text.value +'\\\"}'\n",
    "        headers = {'Content-Type':'application/json'}\n",
    "        resp = requests.post(local_service.scoring_uri, input_data, headers=headers)\n",
    "       \n",
    "        print(\"=\"*10)\n",
    "        print(\"Question:\", text.value)\n",
    "        print(\"POST to url\", local_service.scoring_uri)\n",
    "        print(\"Prediction:\", resp.text)\n",
    "        print(\"=\"*10)\n",
    "\n",
    "button.on_click(on_button_clicked)\n",
    "\n",
    "#Display the GUI\n",
    "VBox([box_auto, output])"
   ]
  },
  {
   "cell_type": "markdown",
   "metadata": {},
   "source": [
    "Doing a raw HTTP request and send to the service through without a widget."
   ]
  },
  {
   "cell_type": "code",
   "execution_count": null,
   "metadata": {},
   "outputs": [],
   "source": [
    "query = 'My VM is not working'\n",
    "input_data = '{\\\"text\\\": \\\"'+ query +'\\\"}'\n",
    "headers = {'Content-Type':'application/json'}\n",
    "resp = requests.post(local_service.scoring_uri, input_data, headers=headers)\n",
    "\n",
    "print(\"=\"*10)\n",
    "print(\"Question:\", query)\n",
    "print(\"POST to url\", local_service.scoring_uri)\n",
    "print(\"Prediction:\", resp.text)\n",
    "print(\"=\"*10)"
   ]
  },
  {
   "cell_type": "markdown",
   "metadata": {},
   "source": [
    "### View service Logs (Debug, when something goes wrong )\n",
    ">**Tip: If something goes wrong with the deployment, the first thing to look at is the logs from the service by running the following command:** Run this cell"
   ]
  },
  {
   "cell_type": "code",
   "execution_count": null,
   "metadata": {},
   "outputs": [],
   "source": [
    "import pprint\n",
    "pp = pprint.PrettyPrinter(indent=4)\n",
    "pp.pprint(aks_service.get_logs())"
   ]
  },
  {
   "cell_type": "markdown",
   "metadata": {},
   "source": [
    "## Summary of workspace\n",
    "Let's look at the workspace after the web service was deployed. You should see\n",
    "\n",
    "* a registered model named and with the id \n",
    "* an AKS and ACI webservice called with some scoring URL"
   ]
  },
  {
   "cell_type": "code",
   "execution_count": null,
   "metadata": {},
   "outputs": [],
   "source": [
    "models = ws.models\n",
    "for name, model in models.items():\n",
    "    print(\"Model: {}, ID: {}\".format(name, model.id))\n",
    "    \n",
    "webservices = ws.webservices\n",
    "for name, webservice in webservices.items():\n",
    "    print(\"Webservice: {}, scoring URI: {}\".format(name, webservice.scoring_uri))"
   ]
  },
  {
   "cell_type": "markdown",
   "metadata": {},
   "source": [
    "## Delete ACI to clean up\n",
    "You can delete the ACI deployment with a simple delete API call."
   ]
  },
  {
   "cell_type": "code",
   "execution_count": null,
   "metadata": {},
   "outputs": [],
   "source": [
    "local_service.delete()\n",
    "aci_service.delete()\n",
    "aks_service.delete()"
   ]
  }
 ],
 "metadata": {
  "kernelspec": {
   "display_name": "Python 3",
   "language": "python",
   "name": "python3"
  },
  "language_info": {
   "codemirror_mode": {
    "name": "ipython",
    "version": 3
   },
   "file_extension": ".py",
   "mimetype": "text/x-python",
   "name": "python",
   "nbconvert_exporter": "python",
   "pygments_lexer": "ipython3",
   "version": "3.6.2-final"
  }
 },
 "nbformat": 4,
 "nbformat_minor": 2
}